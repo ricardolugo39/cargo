{
 "cells": [
  {
   "cell_type": "code",
   "execution_count": 288,
   "metadata": {},
   "outputs": [],
   "source": [
    "import pandas as pd\n",
    "import numpy as np"
   ]
  },
  {
   "cell_type": "code",
   "execution_count": 289,
   "metadata": {},
   "outputs": [
    {
     "data": {
      "text/plain": [
       "'C:\\\\Users\\\\ricardo.lugo\\\\Documents\\\\Python Scripts\\\\Testing'"
      ]
     },
     "execution_count": 289,
     "metadata": {},
     "output_type": "execute_result"
    }
   ],
   "source": [
    "pwd"
   ]
  },
  {
   "cell_type": "code",
   "execution_count": 290,
   "metadata": {},
   "outputs": [
    {
     "name": "stderr",
     "output_type": "stream",
     "text": [
      "C:\\Users\\ricardo.lugo\\Anaconda3\\lib\\site-packages\\IPython\\core\\interactiveshell.py:3146: DtypeWarning: Columns (4,5,20,21,22,23,24) have mixed types.Specify dtype option on import or set low_memory=False.\n",
      "  has_raised = await self.run_ast_nodes(code_ast.body, cell_name,\n"
     ]
    }
   ],
   "source": [
    "df = pd.read_csv(\"TRACKER S3_JAN2021 (2).csv\")"
   ]
  },
  {
   "cell_type": "code",
   "execution_count": 291,
   "metadata": {
    "scrolled": true
   },
   "outputs": [
    {
     "data": {
      "text/plain": [
       "Index(['Company Name', 'Customer ID', 'Global Device ID', 'Trip Name',\n",
       "       'Carrier Name', 'Shipper', 'Description', 'Scheduled Begin',\n",
       "       'Scheduled End', 'Actual Begin', 'Actual End',\n",
       "       'Mean Kinetic Temperature', 'Origin', 'Origin Address', 'Origin City',\n",
       "       'Origin State', 'Destination', 'Destination Address',\n",
       "       'Destination City', 'Destination State',\n",
       "       'Airport Departure Location Name', 'Airport Arrival Location Name',\n",
       "       'Carrier', 'Order Number', 'Cargo', 'Trip Duration',\n",
       "       'Out of Range Duration Trip', 'Low Critical Alert Count',\n",
       "       'Low Warning Alert Count', 'High Warning Alert Count',\n",
       "       'High Critical Alert Count', 'Shipment Creation Date',\n",
       "       'Average Temperature', 'Minimum Temperature', 'Maximum Temperature',\n",
       "       'Time Below Out of Range', 'Time Above Out of Range',\n",
       "       'Low Critical Temperature', 'Low Warning Temperature',\n",
       "       'High Warning Temperature', 'High CriticalTemperature',\n",
       "       'Temperature Standard Deviation', '_BATCH_ID_', '_BATCH_LAST_RUN_'],\n",
       "      dtype='object')"
      ]
     },
     "execution_count": 291,
     "metadata": {},
     "output_type": "execute_result"
    }
   ],
   "source": [
    "df.columns"
   ]
  },
  {
   "cell_type": "code",
   "execution_count": 292,
   "metadata": {},
   "outputs": [],
   "source": [
    "#df = df.loc[df['Actual End'] > '2021-01-01T00:15:21']"
   ]
  },
  {
   "cell_type": "code",
   "execution_count": 293,
   "metadata": {},
   "outputs": [],
   "source": [
    "df_cal_giant = df[df['Company Name'] == \"Wonderful Citrus\"]\n",
    "#df_cal_giant = df"
   ]
  },
  {
   "cell_type": "markdown",
   "metadata": {},
   "source": [
    "# Shipments w/out alerts\n"
   ]
  },
  {
   "cell_type": "code",
   "execution_count": 294,
   "metadata": {},
   "outputs": [
    {
     "name": "stderr",
     "output_type": "stream",
     "text": [
      "C:\\Users\\ricardo.lugo\\Anaconda3\\lib\\site-packages\\pandas\\core\\indexing.py:1596: SettingWithCopyWarning: \n",
      "A value is trying to be set on a copy of a slice from a DataFrame.\n",
      "Try using .loc[row_indexer,col_indexer] = value instead\n",
      "\n",
      "See the caveats in the documentation: https://pandas.pydata.org/pandas-docs/stable/user_guide/indexing.html#returning-a-view-versus-a-copy\n",
      "  self.obj[key] = _infer_fill_value(value)\n",
      "C:\\Users\\ricardo.lugo\\Anaconda3\\lib\\site-packages\\pandas\\core\\indexing.py:1765: SettingWithCopyWarning: \n",
      "A value is trying to be set on a copy of a slice from a DataFrame.\n",
      "Try using .loc[row_indexer,col_indexer] = value instead\n",
      "\n",
      "See the caveats in the documentation: https://pandas.pydata.org/pandas-docs/stable/user_guide/indexing.html#returning-a-view-versus-a-copy\n",
      "  isetter(loc, value)\n",
      "C:\\Users\\ricardo.lugo\\Anaconda3\\lib\\site-packages\\pandas\\core\\indexing.py:1765: SettingWithCopyWarning: \n",
      "A value is trying to be set on a copy of a slice from a DataFrame.\n",
      "Try using .loc[row_indexer,col_indexer] = value instead\n",
      "\n",
      "See the caveats in the documentation: https://pandas.pydata.org/pandas-docs/stable/user_guide/indexing.html#returning-a-view-versus-a-copy\n",
      "  isetter(loc, value)\n"
     ]
    },
    {
     "data": {
      "text/html": [
       "<div>\n",
       "<style scoped>\n",
       "    .dataframe tbody tr th:only-of-type {\n",
       "        vertical-align: middle;\n",
       "    }\n",
       "\n",
       "    .dataframe tbody tr th {\n",
       "        vertical-align: top;\n",
       "    }\n",
       "\n",
       "    .dataframe thead th {\n",
       "        text-align: right;\n",
       "    }\n",
       "</style>\n",
       "<table border=\"1\" class=\"dataframe\">\n",
       "  <thead>\n",
       "    <tr style=\"text-align: right;\">\n",
       "      <th></th>\n",
       "      <th>Company Name</th>\n",
       "      <th>Customer ID</th>\n",
       "      <th>Global Device ID</th>\n",
       "      <th>Trip Name</th>\n",
       "      <th>Carrier Name</th>\n",
       "      <th>Shipper</th>\n",
       "      <th>Description</th>\n",
       "      <th>Scheduled Begin</th>\n",
       "      <th>Scheduled End</th>\n",
       "      <th>Actual Begin</th>\n",
       "      <th>...</th>\n",
       "      <th>Maximum Temperature</th>\n",
       "      <th>Time Below Out of Range</th>\n",
       "      <th>Time Above Out of Range</th>\n",
       "      <th>Low Critical Temperature</th>\n",
       "      <th>Low Warning Temperature</th>\n",
       "      <th>High Warning Temperature</th>\n",
       "      <th>High CriticalTemperature</th>\n",
       "      <th>Temperature Standard Deviation</th>\n",
       "      <th>_BATCH_ID_</th>\n",
       "      <th>_BATCH_LAST_RUN_</th>\n",
       "    </tr>\n",
       "    <tr>\n",
       "      <th>Alert_Trip</th>\n",
       "      <th></th>\n",
       "      <th></th>\n",
       "      <th></th>\n",
       "      <th></th>\n",
       "      <th></th>\n",
       "      <th></th>\n",
       "      <th></th>\n",
       "      <th></th>\n",
       "      <th></th>\n",
       "      <th></th>\n",
       "      <th></th>\n",
       "      <th></th>\n",
       "      <th></th>\n",
       "      <th></th>\n",
       "      <th></th>\n",
       "      <th></th>\n",
       "      <th></th>\n",
       "      <th></th>\n",
       "      <th></th>\n",
       "      <th></th>\n",
       "      <th></th>\n",
       "    </tr>\n",
       "  </thead>\n",
       "  <tbody>\n",
       "    <tr>\n",
       "      <th>No</th>\n",
       "      <td>31711</td>\n",
       "      <td>31711</td>\n",
       "      <td>31711</td>\n",
       "      <td>260</td>\n",
       "      <td>25742</td>\n",
       "      <td>0</td>\n",
       "      <td>31152</td>\n",
       "      <td>31711</td>\n",
       "      <td>31711</td>\n",
       "      <td>31711</td>\n",
       "      <td>...</td>\n",
       "      <td>18275</td>\n",
       "      <td>31704</td>\n",
       "      <td>31704</td>\n",
       "      <td>27611</td>\n",
       "      <td>27611</td>\n",
       "      <td>27611</td>\n",
       "      <td>27611</td>\n",
       "      <td>18275</td>\n",
       "      <td>31711</td>\n",
       "      <td>31711</td>\n",
       "    </tr>\n",
       "    <tr>\n",
       "      <th>Yes</th>\n",
       "      <td>5052</td>\n",
       "      <td>5052</td>\n",
       "      <td>5052</td>\n",
       "      <td>78</td>\n",
       "      <td>4146</td>\n",
       "      <td>0</td>\n",
       "      <td>4474</td>\n",
       "      <td>5052</td>\n",
       "      <td>5052</td>\n",
       "      <td>5052</td>\n",
       "      <td>...</td>\n",
       "      <td>2463</td>\n",
       "      <td>5052</td>\n",
       "      <td>5052</td>\n",
       "      <td>5050</td>\n",
       "      <td>5050</td>\n",
       "      <td>5050</td>\n",
       "      <td>5050</td>\n",
       "      <td>2463</td>\n",
       "      <td>5052</td>\n",
       "      <td>5052</td>\n",
       "    </tr>\n",
       "  </tbody>\n",
       "</table>\n",
       "<p>2 rows × 44 columns</p>\n",
       "</div>"
      ],
      "text/plain": [
       "            Company Name  Customer ID  Global Device ID  Trip Name  \\\n",
       "Alert_Trip                                                           \n",
       "No                 31711        31711             31711        260   \n",
       "Yes                 5052         5052              5052         78   \n",
       "\n",
       "            Carrier Name  Shipper  Description  Scheduled Begin  \\\n",
       "Alert_Trip                                                        \n",
       "No                 25742        0        31152            31711   \n",
       "Yes                 4146        0         4474             5052   \n",
       "\n",
       "            Scheduled End  Actual Begin  ...  Maximum Temperature  \\\n",
       "Alert_Trip                               ...                        \n",
       "No                  31711         31711  ...                18275   \n",
       "Yes                  5052          5052  ...                 2463   \n",
       "\n",
       "            Time Below Out of Range  Time Above Out of Range  \\\n",
       "Alert_Trip                                                     \n",
       "No                            31704                    31704   \n",
       "Yes                            5052                     5052   \n",
       "\n",
       "            Low Critical Temperature  Low Warning Temperature  \\\n",
       "Alert_Trip                                                      \n",
       "No                             27611                    27611   \n",
       "Yes                             5050                     5050   \n",
       "\n",
       "            High Warning Temperature  High CriticalTemperature  \\\n",
       "Alert_Trip                                                       \n",
       "No                             27611                     27611   \n",
       "Yes                             5050                      5050   \n",
       "\n",
       "            Temperature Standard Deviation  _BATCH_ID_  _BATCH_LAST_RUN_  \n",
       "Alert_Trip                                                                \n",
       "No                                   18275       31711             31711  \n",
       "Yes                                   2463        5052              5052  \n",
       "\n",
       "[2 rows x 44 columns]"
      ]
     },
     "execution_count": 294,
     "metadata": {},
     "output_type": "execute_result"
    }
   ],
   "source": [
    "df_cal_giant.loc[(df_cal_giant['High Critical Alert Count'] + df_cal_giant['Low Critical Alert Count']) >= 1,'Alert_Trip'] = 'Yes'\n",
    "df_cal_giant.loc[(df_cal_giant['High Critical Alert Count'] + df_cal_giant['Low Critical Alert Count']) < 1,'Alert_Trip'] = 'No'\n",
    "\n",
    "df_cal_giant.groupby('Alert_Trip').count()"
   ]
  },
  {
   "cell_type": "code",
   "execution_count": 295,
   "metadata": {},
   "outputs": [],
   "source": [
    "yes_alert = df_cal_giant[df_cal_giant['Alert_Trip'] == 'Yes'].shape[0] \n",
    "no_alert = df_cal_giant[df_cal_giant['Alert_Trip'] == 'No'].shape[0]\n",
    "total_rows = df_cal_giant.shape[0]"
   ]
  },
  {
   "cell_type": "code",
   "execution_count": 296,
   "metadata": {},
   "outputs": [
    {
     "data": {
      "text/plain": [
       "0.8625792236759786"
      ]
     },
     "execution_count": 296,
     "metadata": {},
     "output_type": "execute_result"
    }
   ],
   "source": [
    "Trips_no_alerts = no_alert/total_rows\n",
    "Trips_no_alerts"
   ]
  },
  {
   "cell_type": "markdown",
   "metadata": {},
   "source": [
    "# MKT high/low from temp range"
   ]
  },
  {
   "cell_type": "code",
   "execution_count": 297,
   "metadata": {},
   "outputs": [
    {
     "name": "stderr",
     "output_type": "stream",
     "text": [
      "C:\\Users\\ricardo.lugo\\Anaconda3\\lib\\site-packages\\pandas\\core\\indexing.py:1596: SettingWithCopyWarning: \n",
      "A value is trying to be set on a copy of a slice from a DataFrame.\n",
      "Try using .loc[row_indexer,col_indexer] = value instead\n",
      "\n",
      "See the caveats in the documentation: https://pandas.pydata.org/pandas-docs/stable/user_guide/indexing.html#returning-a-view-versus-a-copy\n",
      "  self.obj[key] = _infer_fill_value(value)\n",
      "C:\\Users\\ricardo.lugo\\Anaconda3\\lib\\site-packages\\pandas\\core\\indexing.py:1765: SettingWithCopyWarning: \n",
      "A value is trying to be set on a copy of a slice from a DataFrame.\n",
      "Try using .loc[row_indexer,col_indexer] = value instead\n",
      "\n",
      "See the caveats in the documentation: https://pandas.pydata.org/pandas-docs/stable/user_guide/indexing.html#returning-a-view-versus-a-copy\n",
      "  isetter(loc, value)\n"
     ]
    }
   ],
   "source": [
    "df_cal_giant.loc[(df_cal_giant['Mean Kinetic Temperature'] > df_cal_giant['High CriticalTemperature'])\n",
    "                 | (df_cal_giant['Mean Kinetic Temperature'] < df_cal_giant['Low Critical Temperature']), 'mkt_high']= 'Out'\n",
    "                                        "
   ]
  },
  {
   "cell_type": "code",
   "execution_count": 298,
   "metadata": {},
   "outputs": [
    {
     "name": "stderr",
     "output_type": "stream",
     "text": [
      "<ipython-input-298-14f7d56f7e8c>:1: SettingWithCopyWarning: \n",
      "A value is trying to be set on a copy of a slice from a DataFrame.\n",
      "Try using .loc[row_indexer,col_indexer] = value instead\n",
      "\n",
      "See the caveats in the documentation: https://pandas.pydata.org/pandas-docs/stable/user_guide/indexing.html#returning-a-view-versus-a-copy\n",
      "  df_cal_giant['mkt_high']= df_cal_giant['mkt_high'].fillna(0)\n"
     ]
    }
   ],
   "source": [
    "df_cal_giant['mkt_high']= df_cal_giant['mkt_high'].fillna(0)"
   ]
  },
  {
   "cell_type": "code",
   "execution_count": 299,
   "metadata": {},
   "outputs": [
    {
     "data": {
      "text/plain": [
       "array([0, 'Out'], dtype=object)"
      ]
     },
     "execution_count": 299,
     "metadata": {},
     "output_type": "execute_result"
    }
   ],
   "source": [
    "df_cal_giant['mkt_high'].unique()"
   ]
  },
  {
   "cell_type": "code",
   "execution_count": 300,
   "metadata": {},
   "outputs": [],
   "source": [
    "out_temp = df_cal_giant[df_cal_giant['mkt_high'] == 'Out'].shape[0] \n",
    "in_temp = df_cal_giant[df_cal_giant['mkt_high'] == 0].shape[0]\n"
   ]
  },
  {
   "cell_type": "code",
   "execution_count": 301,
   "metadata": {},
   "outputs": [
    {
     "data": {
      "text/plain": [
       "11224"
      ]
     },
     "execution_count": 301,
     "metadata": {},
     "output_type": "execute_result"
    }
   ],
   "source": [
    "out_temp"
   ]
  },
  {
   "cell_type": "code",
   "execution_count": 302,
   "metadata": {},
   "outputs": [
    {
     "data": {
      "text/plain": [
       "25539"
      ]
     },
     "execution_count": 302,
     "metadata": {},
     "output_type": "execute_result"
    }
   ],
   "source": [
    "in_temp"
   ]
  },
  {
   "cell_type": "code",
   "execution_count": 303,
   "metadata": {},
   "outputs": [
    {
     "data": {
      "text/plain": [
       "0.30530696624323367"
      ]
     },
     "execution_count": 303,
     "metadata": {},
     "output_type": "execute_result"
    }
   ],
   "source": [
    "ship_out_perc = out_temp/total_rows\n",
    "ship_out_perc"
   ]
  },
  {
   "cell_type": "markdown",
   "metadata": {},
   "source": [
    "# Perfect Trip"
   ]
  },
  {
   "cell_type": "code",
   "execution_count": 304,
   "metadata": {},
   "outputs": [],
   "source": [
    "df_cal_giant.loc[(df_cal_giant['mkt_high'] == 0) & (df_cal_giant['Alert_Trip'] == 'No'), 'perfect']= 'Yes'\n"
   ]
  },
  {
   "cell_type": "code",
   "execution_count": 305,
   "metadata": {},
   "outputs": [
    {
     "name": "stderr",
     "output_type": "stream",
     "text": [
      "<ipython-input-305-acbff5557ac2>:1: SettingWithCopyWarning: \n",
      "A value is trying to be set on a copy of a slice from a DataFrame.\n",
      "Try using .loc[row_indexer,col_indexer] = value instead\n",
      "\n",
      "See the caveats in the documentation: https://pandas.pydata.org/pandas-docs/stable/user_guide/indexing.html#returning-a-view-versus-a-copy\n",
      "  df_cal_giant['perfect'] = df_cal_giant['perfect'].fillna(0)\n"
     ]
    }
   ],
   "source": [
    "df_cal_giant['perfect'] = df_cal_giant['perfect'].fillna(0)"
   ]
  },
  {
   "cell_type": "code",
   "execution_count": 306,
   "metadata": {},
   "outputs": [],
   "source": [
    "perfect = df_cal_giant[df_cal_giant['perfect'] == 'Yes'].shape[0] "
   ]
  },
  {
   "cell_type": "code",
   "execution_count": 307,
   "metadata": {},
   "outputs": [
    {
     "data": {
      "text/plain": [
       "22926"
      ]
     },
     "execution_count": 307,
     "metadata": {},
     "output_type": "execute_result"
    }
   ],
   "source": [
    "perfect"
   ]
  },
  {
   "cell_type": "code",
   "execution_count": 308,
   "metadata": {},
   "outputs": [],
   "source": [
    "perfect_perc =  perfect/total_rows"
   ]
  },
  {
   "cell_type": "code",
   "execution_count": 309,
   "metadata": {},
   "outputs": [
    {
     "data": {
      "text/plain": [
       "0.6236161357887006"
      ]
     },
     "execution_count": 309,
     "metadata": {},
     "output_type": "execute_result"
    }
   ],
   "source": [
    "perfect_perc"
   ]
  },
  {
   "cell_type": "markdown",
   "metadata": {},
   "source": [
    "# Outliers Shipments"
   ]
  },
  {
   "cell_type": "code",
   "execution_count": 310,
   "metadata": {},
   "outputs": [],
   "source": [
    "import seaborn as sns"
   ]
  },
  {
   "cell_type": "code",
   "execution_count": 311,
   "metadata": {},
   "outputs": [
    {
     "data": {
      "text/plain": [
       "<AxesSubplot:xlabel='Trip Duration'>"
      ]
     },
     "execution_count": 311,
     "metadata": {},
     "output_type": "execute_result"
    },
    {
     "data": {
      "image/png": "[encoded data removed]",
      "text/plain": [
       "<Figure size 432x288 with 1 Axes>"
      ]
     },
     "metadata": {
      "needs_background": "light"
     },
     "output_type": "display_data"
    }
   ],
   "source": [
    "sns.boxplot(x=df_cal_giant['Trip Duration'])"
   ]
  },
  {
   "cell_type": "code",
   "execution_count": 312,
   "metadata": {},
   "outputs": [
    {
     "data": {
      "image/png": "[encoded data removed]",
      "text/plain": [
       "<Figure size 1152x576 with 1 Axes>"
      ]
     },
     "metadata": {
      "needs_background": "light"
     },
     "output_type": "display_data"
    }
   ],
   "source": [
    "%matplotlib inline\n",
    "from matplotlib import pyplot as plt\n",
    "\n",
    "fig, ax = plt.subplots(figsize=(16,8))\n",
    "ax.scatter(df_cal_giant['Trip Duration'], df_cal_giant['Mean Kinetic Temperature'])\n",
    "ax.set_xlabel('Trip Duration')\n",
    "ax.set_ylabel('MKT')\n",
    "plt.show()"
   ]
  },
  {
   "cell_type": "code",
   "execution_count": 313,
   "metadata": {},
   "outputs": [
    {
     "name": "stderr",
     "output_type": "stream",
     "text": [
      "<ipython-input-313-a2a6e480bed1>:1: SettingWithCopyWarning: \n",
      "A value is trying to be set on a copy of a slice from a DataFrame\n",
      "\n",
      "See the caveats in the documentation: https://pandas.pydata.org/pandas-docs/stable/user_guide/indexing.html#returning-a-view-versus-a-copy\n",
      "  df_cal_giant.sort_values(by='Trip Duration', ascending=False, inplace=True)\n"
     ]
    }
   ],
   "source": [
    "df_cal_giant.sort_values(by='Trip Duration', ascending=False, inplace=True)\n",
    "Q1 = df_cal_giant['Trip Duration'].quantile(0.25)\n",
    "Q3 = df_cal_giant['Trip Duration'].quantile(0.75)\n",
    "IQR = Q3-Q1"
   ]
  },
  {
   "cell_type": "code",
   "execution_count": 314,
   "metadata": {},
   "outputs": [
    {
     "data": {
      "text/plain": [
       "835.0"
      ]
     },
     "execution_count": 314,
     "metadata": {},
     "output_type": "execute_result"
    }
   ],
   "source": [
    "Q1"
   ]
  },
  {
   "cell_type": "code",
   "execution_count": 315,
   "metadata": {},
   "outputs": [
    {
     "data": {
      "text/plain": [
       "5623.0"
      ]
     },
     "execution_count": 315,
     "metadata": {},
     "output_type": "execute_result"
    }
   ],
   "source": [
    "Q3"
   ]
  },
  {
   "cell_type": "code",
   "execution_count": 316,
   "metadata": {},
   "outputs": [],
   "source": [
    "duration_outliers = df_cal_giant['Trip Duration'] > (Q3 + 1.5 * IQR)"
   ]
  },
  {
   "cell_type": "code",
   "execution_count": 317,
   "metadata": {},
   "outputs": [
    {
     "name": "stderr",
     "output_type": "stream",
     "text": [
      "<ipython-input-317-a8c2cfb8fda2>:1: SettingWithCopyWarning: \n",
      "A value is trying to be set on a copy of a slice from a DataFrame.\n",
      "Try using .loc[row_indexer,col_indexer] = value instead\n",
      "\n",
      "See the caveats in the documentation: https://pandas.pydata.org/pandas-docs/stable/user_guide/indexing.html#returning-a-view-versus-a-copy\n",
      "  df_cal_giant['Time_ourlier'] = duration_outliers\n"
     ]
    }
   ],
   "source": [
    "df_cal_giant['Time_ourlier'] = duration_outliers"
   ]
  },
  {
   "cell_type": "code",
   "execution_count": 318,
   "metadata": {},
   "outputs": [
    {
     "data": {
      "text/plain": [
       "array([ True, False])"
      ]
     },
     "execution_count": 318,
     "metadata": {},
     "output_type": "execute_result"
    }
   ],
   "source": [
    "df_cal_giant['Time_ourlier'].unique()"
   ]
  },
  {
   "cell_type": "code",
   "execution_count": 319,
   "metadata": {},
   "outputs": [],
   "source": [
    "time_outliers = df_cal_giant[df_cal_giant['Time_ourlier'] == True]"
   ]
  },
  {
   "cell_type": "code",
   "execution_count": 320,
   "metadata": {},
   "outputs": [],
   "source": [
    "total_outliers = time_outliers.shape[0]"
   ]
  },
  {
   "cell_type": "code",
   "execution_count": 321,
   "metadata": {},
   "outputs": [],
   "source": [
    "outliear_perc = total_outliers/total_rows"
   ]
  },
  {
   "cell_type": "code",
   "execution_count": 322,
   "metadata": {},
   "outputs": [
    {
     "data": {
      "text/plain": [
       "8.881212088240895"
      ]
     },
     "execution_count": 322,
     "metadata": {},
     "output_type": "execute_result"
    }
   ],
   "source": [
    "outliear_perc*100"
   ]
  },
  {
   "cell_type": "code",
   "execution_count": 323,
   "metadata": {},
   "outputs": [
    {
     "data": {
      "text/plain": [
       "3265"
      ]
     },
     "execution_count": 323,
     "metadata": {},
     "output_type": "execute_result"
    }
   ],
   "source": [
    "total_outliers"
   ]
  },
  {
   "cell_type": "code",
   "execution_count": 324,
   "metadata": {},
   "outputs": [],
   "source": [
    "export = time_outliers.groupby('Destination').agg({'Global Device ID': 'count',\n",
    "                                          'Trip Duration': 'mean',\n",
    "                                          'Mean Kinetic Temperature': 'mean'})\n",
    "                                          "
   ]
  },
  {
   "cell_type": "code",
   "execution_count": 325,
   "metadata": {},
   "outputs": [],
   "source": [
    "export.sort_values(by='Global Device ID', ascending=False, inplace=True)"
   ]
  },
  {
   "cell_type": "code",
   "execution_count": 326,
   "metadata": {},
   "outputs": [],
   "source": [
    "export.to_excel('destinations_outliers.xls')"
   ]
  },
  {
   "cell_type": "markdown",
   "metadata": {},
   "source": [
    "# Outliers - Shipments out of Range"
   ]
  },
  {
   "cell_type": "code",
   "execution_count": 327,
   "metadata": {},
   "outputs": [
    {
     "data": {
      "text/plain": [
       "<AxesSubplot:xlabel='Trip Duration'>"
      ]
     },
     "execution_count": 327,
     "metadata": {},
     "output_type": "execute_result"
    },
    {
     "data": {
      "image/png": "[encoded data removed]",
      "text/plain": [
       "<Figure size 432x288 with 1 Axes>"
      ]
     },
     "metadata": {
      "needs_background": "light"
     },
     "output_type": "display_data"
    }
   ],
   "source": [
    "shipments_out_range_temp = df_cal_giant[df_cal_giant['mkt_high'] == 'Out']\n",
    "sns.boxplot(x=shipments_out_range_temp['Trip Duration'])"
   ]
  },
  {
   "cell_type": "code",
   "execution_count": 328,
   "metadata": {},
   "outputs": [
    {
     "data": {
      "image/png": "[encoded data removed]",
      "text/plain": [
       "<Figure size 1152x576 with 1 Axes>"
      ]
     },
     "metadata": {
      "needs_background": "light"
     },
     "output_type": "display_data"
    }
   ],
   "source": [
    "%matplotlib inline\n",
    "from matplotlib import pyplot as plt\n",
    "\n",
    "fig, ax = plt.subplots(figsize=(16,8))\n",
    "ax.scatter(shipments_out_range_temp['Trip Duration'], shipments_out_range_temp['Mean Kinetic Temperature'])\n",
    "ax.set_xlabel('Trip Duration')\n",
    "ax.set_ylabel('MKT')\n",
    "plt.show()"
   ]
  },
  {
   "cell_type": "code",
   "execution_count": 329,
   "metadata": {},
   "outputs": [],
   "source": [
    "shipments_out_range_temp.sort_values(by='Trip Duration', ascending=False)\n",
    "Q1 = shipments_out_range_temp['Trip Duration'].quantile(0.25)\n",
    "Q3 = shipments_out_range_temp['Trip Duration'].quantile(0.75)\n",
    "IQR = Q3-Q1"
   ]
  },
  {
   "cell_type": "code",
   "execution_count": 330,
   "metadata": {},
   "outputs": [],
   "source": [
    "duration_outliers = shipments_out_range_temp['Trip Duration'] > (Q3 + 1.5 * IQR)"
   ]
  },
  {
   "cell_type": "code",
   "execution_count": 331,
   "metadata": {},
   "outputs": [
    {
     "name": "stderr",
     "output_type": "stream",
     "text": [
      "<ipython-input-331-7f469e107cd2>:1: SettingWithCopyWarning: \n",
      "A value is trying to be set on a copy of a slice from a DataFrame.\n",
      "Try using .loc[row_indexer,col_indexer] = value instead\n",
      "\n",
      "See the caveats in the documentation: https://pandas.pydata.org/pandas-docs/stable/user_guide/indexing.html#returning-a-view-versus-a-copy\n",
      "  shipments_out_range_temp['Time_outlier'] = duration_outliers\n"
     ]
    },
    {
     "data": {
      "text/plain": [
       "array([ True, False])"
      ]
     },
     "execution_count": 331,
     "metadata": {},
     "output_type": "execute_result"
    }
   ],
   "source": [
    "shipments_out_range_temp['Time_outlier'] = duration_outliers\n",
    "shipments_out_range_temp['Time_outlier'].unique()"
   ]
  },
  {
   "cell_type": "code",
   "execution_count": 332,
   "metadata": {},
   "outputs": [
    {
     "data": {
      "text/plain": [
       "16.51817533856023"
      ]
     },
     "execution_count": 332,
     "metadata": {},
     "output_type": "execute_result"
    }
   ],
   "source": [
    "total_rows = shipments_out_range_temp.shape[0]\n",
    "time_outliers = shipments_out_range_temp[shipments_out_range_temp['Time_outlier'] == True]\n",
    "total_outliers = time_outliers.shape[0]\n",
    "outliear_perc = total_outliers/total_rows\n",
    "outliear_perc*100"
   ]
  },
  {
   "cell_type": "code",
   "execution_count": 333,
   "metadata": {},
   "outputs": [
    {
     "data": {
      "text/plain": [
       "1854"
      ]
     },
     "execution_count": 333,
     "metadata": {},
     "output_type": "execute_result"
    }
   ],
   "source": [
    "total_outliers"
   ]
  },
  {
   "cell_type": "code",
   "execution_count": 334,
   "metadata": {},
   "outputs": [],
   "source": [
    "export = time_outliers.groupby('Destination').agg({'Global Device ID': 'count',\n",
    "                                          'Trip Duration': 'mean',\n",
    "                                          'Mean Kinetic Temperature': 'mean'})"
   ]
  },
  {
   "cell_type": "code",
   "execution_count": 335,
   "metadata": {},
   "outputs": [],
   "source": [
    "export.sort_values(by='Global Device ID', ascending=False, inplace=True)"
   ]
  },
  {
   "cell_type": "code",
   "execution_count": 336,
   "metadata": {},
   "outputs": [],
   "source": [
    "export.to_excel('destinations_outliers_out_temp.xls')"
   ]
  },
  {
   "cell_type": "markdown",
   "metadata": {},
   "source": [
    "# Remove Outliers\n"
   ]
  },
  {
   "cell_type": "code",
   "execution_count": 337,
   "metadata": {},
   "outputs": [],
   "source": [
    "df_no_outliers = df_cal_giant[df_cal_giant['Time_ourlier'] == False]"
   ]
  },
  {
   "cell_type": "code",
   "execution_count": null,
   "metadata": {},
   "outputs": [],
   "source": []
  },
  {
   "cell_type": "code",
   "execution_count": null,
   "metadata": {},
   "outputs": [],
   "source": []
  },
  {
   "cell_type": "code",
   "execution_count": null,
   "metadata": {},
   "outputs": [],
   "source": []
  },
  {
   "cell_type": "code",
   "execution_count": null,
   "metadata": {},
   "outputs": [],
   "source": []
  },
  {
   "cell_type": "code",
   "execution_count": null,
   "metadata": {},
   "outputs": [],
   "source": []
  },
  {
   "cell_type": "markdown",
   "metadata": {},
   "source": [
    "# ALL"
   ]
  },
  {
   "cell_type": "code",
   "execution_count": 338,
   "metadata": {},
   "outputs": [],
   "source": [
    "companies = df['Company Name'].unique()"
   ]
  },
  {
   "cell_type": "code",
   "execution_count": 339,
   "metadata": {},
   "outputs": [
    {
     "data": {
      "text/plain": [
       "array(['California Giant, Inc.', 'Driscolls China', 'Mission Produce',\n",
       "       'Meijer', 'Chipotle Mexican Grill\\t\\t', 'Sun-Belle',\n",
       "       'CHR - Generac', 'CHR - Global Forwarding',\n",
       "       'CHR - Robinson Fresh - Save-A-Lot', 'TQL - Nathaniel Heyboer',\n",
       "       'TQL - Jack Whittle - Pacific Produce LLC',\n",
       "       'TQL - Jack Whittle - H & T Seafood', 'Wonderful Citrus',\n",
       "       'Driscolls2', 'Classic Salads', 'Taylor Farms Mexico', 'Tesla',\n",
       "       'The Kroger Company', 'CHR - Floral', 'CHR - Hussman',\n",
       "       'CHR - Amazon Robotics', 'Sylvan America'], dtype=object)"
      ]
     },
     "execution_count": 339,
     "metadata": {},
     "output_type": "execute_result"
    }
   ],
   "source": [
    "companies"
   ]
  },
  {
   "cell_type": "code",
   "execution_count": 340,
   "metadata": {},
   "outputs": [],
   "source": [
    "def customer():\n",
    "    \n",
    "    companies = df['Company Name'].unique()\n",
    "       \n",
    "    #Columns to dataset\n",
    "    df.dropna(subset = [\"Global Device ID\"], inplace=True)\n",
    "    df.loc[(df['High Critical Alert Count'] + df['Low Critical Alert Count']) >= 1,'Alert_Trip'] = 'Yes'\n",
    "    df.loc[(df['High Critical Alert Count'] + df['Low Critical Alert Count']) < 1,'Alert_Trip'] = 'No'\n",
    "    df.loc[(df['Mean Kinetic Temperature'] > df['High CriticalTemperature'])\n",
    "                     | (df['Mean Kinetic Temperature'] < df['Low Critical Temperature']), 'mkt_high']= 'Out'\n",
    "    df['mkt_high']= df['mkt_high'].fillna(0)\n",
    "    \n",
    "    df.loc[(df['mkt_high'] == 0) & (df['Alert_Trip'] == 'No'), 'perfect']= 'Yes'\n",
    "    df['perfect'] = df['perfect'].fillna(0)\n",
    "    \n",
    "   #lists\n",
    "    company = []\n",
    "    no_alerts = []\n",
    "    out_of_range = []\n",
    "    perfect = []\n",
    "    outlier = []\n",
    "    temp_outlier = [] \n",
    "    no_alerts_no_outliers = []\n",
    "    out_of_range_no_outliers = []\n",
    "    outlier_no_outliers = []\n",
    "\n",
    "    for customer in companies:\n",
    "        \n",
    "        df1 = df[df['Company Name'] == customer]\n",
    "        company.append(customer)     \n",
    "        \n",
    "           \n",
    "        \n",
    "        #Alert Trips\n",
    "        yes_alert = df1[df1['Alert_Trip'] == 'Yes'].shape[0] \n",
    "        no_alert = df1[df1['Alert_Trip'] == 'No'].shape[0]\n",
    "        total_rows = df1.shape[0]        \n",
    "        Trips_no_alerts = no_alert/total_rows\n",
    "        no_alerts.append(Trips_no_alerts)\n",
    "\n",
    "        #Temperature evaluation\n",
    "        out_temp = df1[df1['mkt_high'] == 'Out'].shape[0] \n",
    "        in_temp = df1[df1['mkt_high'] == 0].shape[0]\n",
    "        ship_out_perc = out_temp/total_rows\n",
    "        out_of_range.append(ship_out_perc)\n",
    "\n",
    "        #Perfect Trip\n",
    "        perfect = df1[df1['perfect'] == 'Yes'].shape[0] \n",
    "        perfect_perc =  perfect/total_rows\n",
    "        #perfect.setdefault.append(perfect_perc)\n",
    "\n",
    "        #Outliers - Time    \n",
    "        df1.sort_values(by='Trip Duration', ascending=False, inplace=True)\n",
    "        Q1 = df1['Trip Duration'].quantile(0.25)\n",
    "        Q3 = df1['Trip Duration'].quantile(0.75)\n",
    "        IQR = Q3-Q1\n",
    "        duration_outliers = df1['Trip Duration'] > (Q3 + 1.5 * IQR)\n",
    "        df1['Time_ourlier'] = duration_outliers\n",
    "        time_outliers = df1[df1['Time_ourlier'] == True]\n",
    "        total_outliers = time_outliers.shape[0]\n",
    "        outliear_perc = total_outliers/total_rows\n",
    "        outlier.append(outliear_perc)\n",
    "\n",
    "        #Outliers - Shipments out of range only\n",
    "        shipments_out_range_temp = df1[df1['mkt_high'] == 'Out']   \n",
    "        shipments_out_range_temp.sort_values(by='Trip Duration', ascending=False)\n",
    "        Q1 = shipments_out_range_temp['Trip Duration'].quantile(0.25)\n",
    "        Q3 = shipments_out_range_temp['Trip Duration'].quantile(0.75)\n",
    "        IQR = Q3-Q1\n",
    "        duration_outliers = shipments_out_range_temp['Trip Duration'] > (Q3 + 1.5 * IQR)\n",
    "        shipments_out_range_temp['Time_outlier'] = duration_outliers\n",
    "        total_rows = shipments_out_range_temp.shape[0]\n",
    "        time_outliers = shipments_out_range_temp[shipments_out_range_temp['Time_outlier'] == True]\n",
    "        total_outliers = time_outliers.shape[0]\n",
    "        \n",
    "        if total_outliers & total_rows ==0:\n",
    "            outliear_perc_temp = 'Not Applicable'\n",
    "        else:\n",
    "            outliear_perc_temp = total_outliers/total_rows\n",
    "        \n",
    "        temp_outlier.append(outliear_perc_temp)\n",
    "    \n",
    "        #Remove outliers\n",
    "        \n",
    "        df_no_outliers = df1[df1['Time_ourlier'] == False]\n",
    "        \n",
    "            #Alert Trips\n",
    "        yes_alert = df_no_outliers[df_no_outliers['Alert_Trip'] == 'Yes'].shape[0] \n",
    "        no_alert = df_no_outliers[df_no_outliers['Alert_Trip'] == 'No'].shape[0]\n",
    "        total_rows = df_no_outliers.shape[0]        \n",
    "        Trips_no_alerts = no_alert/total_rows\n",
    "        no_alerts_no_outliers.append(Trips_no_alerts)\n",
    "        \n",
    "            #Temperature evaluation\n",
    "        out_temp = df_no_outliers[df_no_outliers['mkt_high'] == 'Out'].shape[0] \n",
    "        in_temp = df_no_outliers[df_no_outliers['mkt_high'] == 0].shape[0]\n",
    "        ship_out_perc = out_temp/total_rows\n",
    "        out_of_range_no_outliers.append(ship_out_perc)\n",
    "        \n",
    "             #Perfect Trip\n",
    "        perfect = df_no_outliers[df_no_outliers['perfect'] == 'Yes'].shape[0] \n",
    "        perfect_perc =  perfect/total_rows\n",
    "        #perfect.setdefault.append(perfect_perc)\n",
    "        \n",
    "            #Outliers - Time    \n",
    "        df_no_outliers.sort_values(by='Trip Duration', ascending=False, inplace=True)\n",
    "        Q1 = df_no_outliers['Trip Duration'].quantile(0.25)\n",
    "        Q3 = df_no_outliers['Trip Duration'].quantile(0.75)\n",
    "        IQR = Q3-Q1\n",
    "        duration_outliers = df_no_outliers['Trip Duration'] > (Q3 + 1.5 * IQR)\n",
    "        df_no_outliers['Time_ourlier'] = duration_outliers\n",
    "        time_outliers = df_no_outliers[df_no_outliers['Time_ourlier'] == True]\n",
    "        total_outliers = time_outliers.shape[0]\n",
    "        outliear_perc = total_outliers/total_rows\n",
    "        outlier_no_outliers.append(outliear_perc)\n",
    "        \n",
    "        \n",
    "        \n",
    "        \n",
    "        \n",
    "        \n",
    "    \n",
    "    table = pd.DataFrame({'Company': company,\n",
    "                          'Trips with no alerts': no_alerts,\n",
    "                          'Trips with no alerts - no outliers' : no_alerts_no_outliers,\n",
    "                          'Trips out of temp range': out_of_range,\n",
    "                          'Trips out of temp range - no outliers' : out_of_range_no_outliers,\n",
    "                          \n",
    "                          'Outliers Percentage': outlier,\n",
    "                          'Outliers trips out of range': temp_outlier,\n",
    "                          \n",
    "                          \n",
    "                          'Outliers Percentage - no outlier (1st iteration)': outlier_no_outliers, \n",
    "        \n",
    "    })\n",
    "    \n",
    "    table.to_excel('table.xls')\n",
    "    \n",
    "\n",
    "    return table"
   ]
  },
  {
   "cell_type": "code",
   "execution_count": 341,
   "metadata": {},
   "outputs": [
    {
     "name": "stderr",
     "output_type": "stream",
     "text": [
      "<ipython-input-340-fd5adf31ff6e>:53: SettingWithCopyWarning: \n",
      "A value is trying to be set on a copy of a slice from a DataFrame\n",
      "\n",
      "See the caveats in the documentation: https://pandas.pydata.org/pandas-docs/stable/user_guide/indexing.html#returning-a-view-versus-a-copy\n",
      "  df1.sort_values(by='Trip Duration', ascending=False, inplace=True)\n",
      "<ipython-input-340-fd5adf31ff6e>:58: SettingWithCopyWarning: \n",
      "A value is trying to be set on a copy of a slice from a DataFrame.\n",
      "Try using .loc[row_indexer,col_indexer] = value instead\n",
      "\n",
      "See the caveats in the documentation: https://pandas.pydata.org/pandas-docs/stable/user_guide/indexing.html#returning-a-view-versus-a-copy\n",
      "  df1['Time_ourlier'] = duration_outliers\n",
      "<ipython-input-340-fd5adf31ff6e>:71: SettingWithCopyWarning: \n",
      "A value is trying to be set on a copy of a slice from a DataFrame.\n",
      "Try using .loc[row_indexer,col_indexer] = value instead\n",
      "\n",
      "See the caveats in the documentation: https://pandas.pydata.org/pandas-docs/stable/user_guide/indexing.html#returning-a-view-versus-a-copy\n",
      "  shipments_out_range_temp['Time_outlier'] = duration_outliers\n",
      "<ipython-input-340-fd5adf31ff6e>:106: SettingWithCopyWarning: \n",
      "A value is trying to be set on a copy of a slice from a DataFrame\n",
      "\n",
      "See the caveats in the documentation: https://pandas.pydata.org/pandas-docs/stable/user_guide/indexing.html#returning-a-view-versus-a-copy\n",
      "  df_no_outliers.sort_values(by='Trip Duration', ascending=False, inplace=True)\n",
      "<ipython-input-340-fd5adf31ff6e>:111: SettingWithCopyWarning: \n",
      "A value is trying to be set on a copy of a slice from a DataFrame.\n",
      "Try using .loc[row_indexer,col_indexer] = value instead\n",
      "\n",
      "See the caveats in the documentation: https://pandas.pydata.org/pandas-docs/stable/user_guide/indexing.html#returning-a-view-versus-a-copy\n",
      "  df_no_outliers['Time_ourlier'] = duration_outliers\n",
      "<ipython-input-340-fd5adf31ff6e>:53: SettingWithCopyWarning: \n",
      "A value is trying to be set on a copy of a slice from a DataFrame\n",
      "\n",
      "See the caveats in the documentation: https://pandas.pydata.org/pandas-docs/stable/user_guide/indexing.html#returning-a-view-versus-a-copy\n",
      "  df1.sort_values(by='Trip Duration', ascending=False, inplace=True)\n",
      "<ipython-input-340-fd5adf31ff6e>:58: SettingWithCopyWarning: \n",
      "A value is trying to be set on a copy of a slice from a DataFrame.\n",
      "Try using .loc[row_indexer,col_indexer] = value instead\n",
      "\n",
      "See the caveats in the documentation: https://pandas.pydata.org/pandas-docs/stable/user_guide/indexing.html#returning-a-view-versus-a-copy\n",
      "  df1['Time_ourlier'] = duration_outliers\n",
      "<ipython-input-340-fd5adf31ff6e>:71: SettingWithCopyWarning: \n",
      "A value is trying to be set on a copy of a slice from a DataFrame.\n",
      "Try using .loc[row_indexer,col_indexer] = value instead\n",
      "\n",
      "See the caveats in the documentation: https://pandas.pydata.org/pandas-docs/stable/user_guide/indexing.html#returning-a-view-versus-a-copy\n",
      "  shipments_out_range_temp['Time_outlier'] = duration_outliers\n",
      "<ipython-input-340-fd5adf31ff6e>:53: SettingWithCopyWarning: \n",
      "A value is trying to be set on a copy of a slice from a DataFrame\n",
      "\n",
      "See the caveats in the documentation: https://pandas.pydata.org/pandas-docs/stable/user_guide/indexing.html#returning-a-view-versus-a-copy\n",
      "  df1.sort_values(by='Trip Duration', ascending=False, inplace=True)\n",
      "<ipython-input-340-fd5adf31ff6e>:58: SettingWithCopyWarning: \n",
      "A value is trying to be set on a copy of a slice from a DataFrame.\n",
      "Try using .loc[row_indexer,col_indexer] = value instead\n",
      "\n",
      "See the caveats in the documentation: https://pandas.pydata.org/pandas-docs/stable/user_guide/indexing.html#returning-a-view-versus-a-copy\n",
      "  df1['Time_ourlier'] = duration_outliers\n",
      "<ipython-input-340-fd5adf31ff6e>:71: SettingWithCopyWarning: \n",
      "A value is trying to be set on a copy of a slice from a DataFrame.\n",
      "Try using .loc[row_indexer,col_indexer] = value instead\n",
      "\n",
      "See the caveats in the documentation: https://pandas.pydata.org/pandas-docs/stable/user_guide/indexing.html#returning-a-view-versus-a-copy\n",
      "  shipments_out_range_temp['Time_outlier'] = duration_outliers\n",
      "<ipython-input-340-fd5adf31ff6e>:106: SettingWithCopyWarning: \n",
      "A value is trying to be set on a copy of a slice from a DataFrame\n",
      "\n",
      "See the caveats in the documentation: https://pandas.pydata.org/pandas-docs/stable/user_guide/indexing.html#returning-a-view-versus-a-copy\n",
      "  df_no_outliers.sort_values(by='Trip Duration', ascending=False, inplace=True)\n",
      "<ipython-input-340-fd5adf31ff6e>:111: SettingWithCopyWarning: \n",
      "A value is trying to be set on a copy of a slice from a DataFrame.\n",
      "Try using .loc[row_indexer,col_indexer] = value instead\n",
      "\n",
      "See the caveats in the documentation: https://pandas.pydata.org/pandas-docs/stable/user_guide/indexing.html#returning-a-view-versus-a-copy\n",
      "  df_no_outliers['Time_ourlier'] = duration_outliers\n",
      "<ipython-input-340-fd5adf31ff6e>:53: SettingWithCopyWarning: \n",
      "A value is trying to be set on a copy of a slice from a DataFrame\n",
      "\n",
      "See the caveats in the documentation: https://pandas.pydata.org/pandas-docs/stable/user_guide/indexing.html#returning-a-view-versus-a-copy\n",
      "  df1.sort_values(by='Trip Duration', ascending=False, inplace=True)\n",
      "<ipython-input-340-fd5adf31ff6e>:58: SettingWithCopyWarning: \n",
      "A value is trying to be set on a copy of a slice from a DataFrame.\n",
      "Try using .loc[row_indexer,col_indexer] = value instead\n",
      "\n",
      "See the caveats in the documentation: https://pandas.pydata.org/pandas-docs/stable/user_guide/indexing.html#returning-a-view-versus-a-copy\n",
      "  df1['Time_ourlier'] = duration_outliers\n",
      "<ipython-input-340-fd5adf31ff6e>:71: SettingWithCopyWarning: \n",
      "A value is trying to be set on a copy of a slice from a DataFrame.\n",
      "Try using .loc[row_indexer,col_indexer] = value instead\n",
      "\n",
      "See the caveats in the documentation: https://pandas.pydata.org/pandas-docs/stable/user_guide/indexing.html#returning-a-view-versus-a-copy\n",
      "  shipments_out_range_temp['Time_outlier'] = duration_outliers\n",
      "<ipython-input-340-fd5adf31ff6e>:106: SettingWithCopyWarning: \n",
      "A value is trying to be set on a copy of a slice from a DataFrame\n",
      "\n",
      "See the caveats in the documentation: https://pandas.pydata.org/pandas-docs/stable/user_guide/indexing.html#returning-a-view-versus-a-copy\n",
      "  df_no_outliers.sort_values(by='Trip Duration', ascending=False, inplace=True)\n",
      "<ipython-input-340-fd5adf31ff6e>:111: SettingWithCopyWarning: \n",
      "A value is trying to be set on a copy of a slice from a DataFrame.\n",
      "Try using .loc[row_indexer,col_indexer] = value instead\n",
      "\n",
      "See the caveats in the documentation: https://pandas.pydata.org/pandas-docs/stable/user_guide/indexing.html#returning-a-view-versus-a-copy\n",
      "  df_no_outliers['Time_ourlier'] = duration_outliers\n",
      "<ipython-input-340-fd5adf31ff6e>:53: SettingWithCopyWarning: \n",
      "A value is trying to be set on a copy of a slice from a DataFrame\n",
      "\n",
      "See the caveats in the documentation: https://pandas.pydata.org/pandas-docs/stable/user_guide/indexing.html#returning-a-view-versus-a-copy\n",
      "  df1.sort_values(by='Trip Duration', ascending=False, inplace=True)\n",
      "<ipython-input-340-fd5adf31ff6e>:58: SettingWithCopyWarning: \n",
      "A value is trying to be set on a copy of a slice from a DataFrame.\n",
      "Try using .loc[row_indexer,col_indexer] = value instead\n",
      "\n",
      "See the caveats in the documentation: https://pandas.pydata.org/pandas-docs/stable/user_guide/indexing.html#returning-a-view-versus-a-copy\n",
      "  df1['Time_ourlier'] = duration_outliers\n",
      "<ipython-input-340-fd5adf31ff6e>:71: SettingWithCopyWarning: \n",
      "A value is trying to be set on a copy of a slice from a DataFrame.\n",
      "Try using .loc[row_indexer,col_indexer] = value instead\n",
      "\n",
      "See the caveats in the documentation: https://pandas.pydata.org/pandas-docs/stable/user_guide/indexing.html#returning-a-view-versus-a-copy\n",
      "  shipments_out_range_temp['Time_outlier'] = duration_outliers\n",
      "<ipython-input-340-fd5adf31ff6e>:53: SettingWithCopyWarning: \n",
      "A value is trying to be set on a copy of a slice from a DataFrame\n",
      "\n",
      "See the caveats in the documentation: https://pandas.pydata.org/pandas-docs/stable/user_guide/indexing.html#returning-a-view-versus-a-copy\n",
      "  df1.sort_values(by='Trip Duration', ascending=False, inplace=True)\n",
      "<ipython-input-340-fd5adf31ff6e>:58: SettingWithCopyWarning: \n",
      "A value is trying to be set on a copy of a slice from a DataFrame.\n",
      "Try using .loc[row_indexer,col_indexer] = value instead\n",
      "\n",
      "See the caveats in the documentation: https://pandas.pydata.org/pandas-docs/stable/user_guide/indexing.html#returning-a-view-versus-a-copy\n",
      "  df1['Time_ourlier'] = duration_outliers\n",
      "<ipython-input-340-fd5adf31ff6e>:71: SettingWithCopyWarning: \n",
      "A value is trying to be set on a copy of a slice from a DataFrame.\n",
      "Try using .loc[row_indexer,col_indexer] = value instead\n",
      "\n",
      "See the caveats in the documentation: https://pandas.pydata.org/pandas-docs/stable/user_guide/indexing.html#returning-a-view-versus-a-copy\n",
      "  shipments_out_range_temp['Time_outlier'] = duration_outliers\n",
      "<ipython-input-340-fd5adf31ff6e>:106: SettingWithCopyWarning: \n",
      "A value is trying to be set on a copy of a slice from a DataFrame\n",
      "\n",
      "See the caveats in the documentation: https://pandas.pydata.org/pandas-docs/stable/user_guide/indexing.html#returning-a-view-versus-a-copy\n",
      "  df_no_outliers.sort_values(by='Trip Duration', ascending=False, inplace=True)\n",
      "<ipython-input-340-fd5adf31ff6e>:111: SettingWithCopyWarning: \n",
      "A value is trying to be set on a copy of a slice from a DataFrame.\n",
      "Try using .loc[row_indexer,col_indexer] = value instead\n",
      "\n",
      "See the caveats in the documentation: https://pandas.pydata.org/pandas-docs/stable/user_guide/indexing.html#returning-a-view-versus-a-copy\n",
      "  df_no_outliers['Time_ourlier'] = duration_outliers\n",
      "<ipython-input-340-fd5adf31ff6e>:53: SettingWithCopyWarning: \n",
      "A value is trying to be set on a copy of a slice from a DataFrame\n",
      "\n",
      "See the caveats in the documentation: https://pandas.pydata.org/pandas-docs/stable/user_guide/indexing.html#returning-a-view-versus-a-copy\n",
      "  df1.sort_values(by='Trip Duration', ascending=False, inplace=True)\n",
      "<ipython-input-340-fd5adf31ff6e>:58: SettingWithCopyWarning: \n",
      "A value is trying to be set on a copy of a slice from a DataFrame.\n",
      "Try using .loc[row_indexer,col_indexer] = value instead\n",
      "\n",
      "See the caveats in the documentation: https://pandas.pydata.org/pandas-docs/stable/user_guide/indexing.html#returning-a-view-versus-a-copy\n",
      "  df1['Time_ourlier'] = duration_outliers\n",
      "<ipython-input-340-fd5adf31ff6e>:71: SettingWithCopyWarning: \n",
      "A value is trying to be set on a copy of a slice from a DataFrame.\n",
      "Try using .loc[row_indexer,col_indexer] = value instead\n",
      "\n",
      "See the caveats in the documentation: https://pandas.pydata.org/pandas-docs/stable/user_guide/indexing.html#returning-a-view-versus-a-copy\n",
      "  shipments_out_range_temp['Time_outlier'] = duration_outliers\n",
      "<ipython-input-340-fd5adf31ff6e>:106: SettingWithCopyWarning: \n",
      "A value is trying to be set on a copy of a slice from a DataFrame\n",
      "\n",
      "See the caveats in the documentation: https://pandas.pydata.org/pandas-docs/stable/user_guide/indexing.html#returning-a-view-versus-a-copy\n",
      "  df_no_outliers.sort_values(by='Trip Duration', ascending=False, inplace=True)\n",
      "<ipython-input-340-fd5adf31ff6e>:111: SettingWithCopyWarning: \n",
      "A value is trying to be set on a copy of a slice from a DataFrame.\n",
      "Try using .loc[row_indexer,col_indexer] = value instead\n",
      "\n",
      "See the caveats in the documentation: https://pandas.pydata.org/pandas-docs/stable/user_guide/indexing.html#returning-a-view-versus-a-copy\n",
      "  df_no_outliers['Time_ourlier'] = duration_outliers\n",
      "<ipython-input-340-fd5adf31ff6e>:53: SettingWithCopyWarning: \n",
      "A value is trying to be set on a copy of a slice from a DataFrame\n",
      "\n",
      "See the caveats in the documentation: https://pandas.pydata.org/pandas-docs/stable/user_guide/indexing.html#returning-a-view-versus-a-copy\n",
      "  df1.sort_values(by='Trip Duration', ascending=False, inplace=True)\n",
      "<ipython-input-340-fd5adf31ff6e>:58: SettingWithCopyWarning: \n",
      "A value is trying to be set on a copy of a slice from a DataFrame.\n",
      "Try using .loc[row_indexer,col_indexer] = value instead\n",
      "\n",
      "See the caveats in the documentation: https://pandas.pydata.org/pandas-docs/stable/user_guide/indexing.html#returning-a-view-versus-a-copy\n",
      "  df1['Time_ourlier'] = duration_outliers\n",
      "<ipython-input-340-fd5adf31ff6e>:71: SettingWithCopyWarning: \n",
      "A value is trying to be set on a copy of a slice from a DataFrame.\n",
      "Try using .loc[row_indexer,col_indexer] = value instead\n",
      "\n",
      "See the caveats in the documentation: https://pandas.pydata.org/pandas-docs/stable/user_guide/indexing.html#returning-a-view-versus-a-copy\n",
      "  shipments_out_range_temp['Time_outlier'] = duration_outliers\n",
      "<ipython-input-340-fd5adf31ff6e>:106: SettingWithCopyWarning: \n",
      "A value is trying to be set on a copy of a slice from a DataFrame\n",
      "\n",
      "See the caveats in the documentation: https://pandas.pydata.org/pandas-docs/stable/user_guide/indexing.html#returning-a-view-versus-a-copy\n",
      "  df_no_outliers.sort_values(by='Trip Duration', ascending=False, inplace=True)\n",
      "<ipython-input-340-fd5adf31ff6e>:111: SettingWithCopyWarning: \n",
      "A value is trying to be set on a copy of a slice from a DataFrame.\n",
      "Try using .loc[row_indexer,col_indexer] = value instead\n",
      "\n",
      "See the caveats in the documentation: https://pandas.pydata.org/pandas-docs/stable/user_guide/indexing.html#returning-a-view-versus-a-copy\n",
      "  df_no_outliers['Time_ourlier'] = duration_outliers\n",
      "<ipython-input-340-fd5adf31ff6e>:53: SettingWithCopyWarning: \n",
      "A value is trying to be set on a copy of a slice from a DataFrame\n",
      "\n",
      "See the caveats in the documentation: https://pandas.pydata.org/pandas-docs/stable/user_guide/indexing.html#returning-a-view-versus-a-copy\n",
      "  df1.sort_values(by='Trip Duration', ascending=False, inplace=True)\n",
      "<ipython-input-340-fd5adf31ff6e>:58: SettingWithCopyWarning: \n",
      "A value is trying to be set on a copy of a slice from a DataFrame.\n",
      "Try using .loc[row_indexer,col_indexer] = value instead\n",
      "\n",
      "See the caveats in the documentation: https://pandas.pydata.org/pandas-docs/stable/user_guide/indexing.html#returning-a-view-versus-a-copy\n",
      "  df1['Time_ourlier'] = duration_outliers\n",
      "<ipython-input-340-fd5adf31ff6e>:71: SettingWithCopyWarning: \n",
      "A value is trying to be set on a copy of a slice from a DataFrame.\n",
      "Try using .loc[row_indexer,col_indexer] = value instead\n",
      "\n",
      "See the caveats in the documentation: https://pandas.pydata.org/pandas-docs/stable/user_guide/indexing.html#returning-a-view-versus-a-copy\n",
      "  shipments_out_range_temp['Time_outlier'] = duration_outliers\n",
      "<ipython-input-340-fd5adf31ff6e>:106: SettingWithCopyWarning: \n",
      "A value is trying to be set on a copy of a slice from a DataFrame\n",
      "\n",
      "See the caveats in the documentation: https://pandas.pydata.org/pandas-docs/stable/user_guide/indexing.html#returning-a-view-versus-a-copy\n",
      "  df_no_outliers.sort_values(by='Trip Duration', ascending=False, inplace=True)\n",
      "<ipython-input-340-fd5adf31ff6e>:111: SettingWithCopyWarning: \n",
      "A value is trying to be set on a copy of a slice from a DataFrame.\n",
      "Try using .loc[row_indexer,col_indexer] = value instead\n",
      "\n",
      "See the caveats in the documentation: https://pandas.pydata.org/pandas-docs/stable/user_guide/indexing.html#returning-a-view-versus-a-copy\n",
      "  df_no_outliers['Time_ourlier'] = duration_outliers\n",
      "<ipython-input-340-fd5adf31ff6e>:53: SettingWithCopyWarning: \n",
      "A value is trying to be set on a copy of a slice from a DataFrame\n",
      "\n",
      "See the caveats in the documentation: https://pandas.pydata.org/pandas-docs/stable/user_guide/indexing.html#returning-a-view-versus-a-copy\n",
      "  df1.sort_values(by='Trip Duration', ascending=False, inplace=True)\n",
      "<ipython-input-340-fd5adf31ff6e>:58: SettingWithCopyWarning: \n",
      "A value is trying to be set on a copy of a slice from a DataFrame.\n",
      "Try using .loc[row_indexer,col_indexer] = value instead\n",
      "\n",
      "See the caveats in the documentation: https://pandas.pydata.org/pandas-docs/stable/user_guide/indexing.html#returning-a-view-versus-a-copy\n",
      "  df1['Time_ourlier'] = duration_outliers\n",
      "<ipython-input-340-fd5adf31ff6e>:71: SettingWithCopyWarning: \n",
      "A value is trying to be set on a copy of a slice from a DataFrame.\n",
      "Try using .loc[row_indexer,col_indexer] = value instead\n",
      "\n",
      "See the caveats in the documentation: https://pandas.pydata.org/pandas-docs/stable/user_guide/indexing.html#returning-a-view-versus-a-copy\n",
      "  shipments_out_range_temp['Time_outlier'] = duration_outliers\n",
      "<ipython-input-340-fd5adf31ff6e>:106: SettingWithCopyWarning: \n",
      "A value is trying to be set on a copy of a slice from a DataFrame\n",
      "\n",
      "See the caveats in the documentation: https://pandas.pydata.org/pandas-docs/stable/user_guide/indexing.html#returning-a-view-versus-a-copy\n",
      "  df_no_outliers.sort_values(by='Trip Duration', ascending=False, inplace=True)\n",
      "<ipython-input-340-fd5adf31ff6e>:111: SettingWithCopyWarning: \n",
      "A value is trying to be set on a copy of a slice from a DataFrame.\n",
      "Try using .loc[row_indexer,col_indexer] = value instead\n",
      "\n",
      "See the caveats in the documentation: https://pandas.pydata.org/pandas-docs/stable/user_guide/indexing.html#returning-a-view-versus-a-copy\n",
      "  df_no_outliers['Time_ourlier'] = duration_outliers\n",
      "<ipython-input-340-fd5adf31ff6e>:53: SettingWithCopyWarning: \n",
      "A value is trying to be set on a copy of a slice from a DataFrame\n",
      "\n",
      "See the caveats in the documentation: https://pandas.pydata.org/pandas-docs/stable/user_guide/indexing.html#returning-a-view-versus-a-copy\n",
      "  df1.sort_values(by='Trip Duration', ascending=False, inplace=True)\n",
      "<ipython-input-340-fd5adf31ff6e>:58: SettingWithCopyWarning: \n",
      "A value is trying to be set on a copy of a slice from a DataFrame.\n",
      "Try using .loc[row_indexer,col_indexer] = value instead\n",
      "\n",
      "See the caveats in the documentation: https://pandas.pydata.org/pandas-docs/stable/user_guide/indexing.html#returning-a-view-versus-a-copy\n",
      "  df1['Time_ourlier'] = duration_outliers\n",
      "<ipython-input-340-fd5adf31ff6e>:71: SettingWithCopyWarning: \n",
      "A value is trying to be set on a copy of a slice from a DataFrame.\n",
      "Try using .loc[row_indexer,col_indexer] = value instead\n",
      "\n",
      "See the caveats in the documentation: https://pandas.pydata.org/pandas-docs/stable/user_guide/indexing.html#returning-a-view-versus-a-copy\n",
      "  shipments_out_range_temp['Time_outlier'] = duration_outliers\n",
      "<ipython-input-340-fd5adf31ff6e>:106: SettingWithCopyWarning: \n",
      "A value is trying to be set on a copy of a slice from a DataFrame\n",
      "\n",
      "See the caveats in the documentation: https://pandas.pydata.org/pandas-docs/stable/user_guide/indexing.html#returning-a-view-versus-a-copy\n",
      "  df_no_outliers.sort_values(by='Trip Duration', ascending=False, inplace=True)\n",
      "<ipython-input-340-fd5adf31ff6e>:111: SettingWithCopyWarning: \n",
      "A value is trying to be set on a copy of a slice from a DataFrame.\n",
      "Try using .loc[row_indexer,col_indexer] = value instead\n",
      "\n",
      "See the caveats in the documentation: https://pandas.pydata.org/pandas-docs/stable/user_guide/indexing.html#returning-a-view-versus-a-copy\n",
      "  df_no_outliers['Time_ourlier'] = duration_outliers\n",
      "<ipython-input-340-fd5adf31ff6e>:53: SettingWithCopyWarning: \n",
      "A value is trying to be set on a copy of a slice from a DataFrame\n",
      "\n",
      "See the caveats in the documentation: https://pandas.pydata.org/pandas-docs/stable/user_guide/indexing.html#returning-a-view-versus-a-copy\n",
      "  df1.sort_values(by='Trip Duration', ascending=False, inplace=True)\n",
      "<ipython-input-340-fd5adf31ff6e>:58: SettingWithCopyWarning: \n",
      "A value is trying to be set on a copy of a slice from a DataFrame.\n",
      "Try using .loc[row_indexer,col_indexer] = value instead\n",
      "\n",
      "See the caveats in the documentation: https://pandas.pydata.org/pandas-docs/stable/user_guide/indexing.html#returning-a-view-versus-a-copy\n",
      "  df1['Time_ourlier'] = duration_outliers\n",
      "<ipython-input-340-fd5adf31ff6e>:53: SettingWithCopyWarning: \n",
      "A value is trying to be set on a copy of a slice from a DataFrame\n",
      "\n",
      "See the caveats in the documentation: https://pandas.pydata.org/pandas-docs/stable/user_guide/indexing.html#returning-a-view-versus-a-copy\n",
      "  df1.sort_values(by='Trip Duration', ascending=False, inplace=True)\n",
      "<ipython-input-340-fd5adf31ff6e>:58: SettingWithCopyWarning: \n",
      "A value is trying to be set on a copy of a slice from a DataFrame.\n",
      "Try using .loc[row_indexer,col_indexer] = value instead\n",
      "\n",
      "See the caveats in the documentation: https://pandas.pydata.org/pandas-docs/stable/user_guide/indexing.html#returning-a-view-versus-a-copy\n",
      "  df1['Time_ourlier'] = duration_outliers\n",
      "<ipython-input-340-fd5adf31ff6e>:71: SettingWithCopyWarning: \n",
      "A value is trying to be set on a copy of a slice from a DataFrame.\n",
      "Try using .loc[row_indexer,col_indexer] = value instead\n",
      "\n",
      "See the caveats in the documentation: https://pandas.pydata.org/pandas-docs/stable/user_guide/indexing.html#returning-a-view-versus-a-copy\n",
      "  shipments_out_range_temp['Time_outlier'] = duration_outliers\n",
      "<ipython-input-340-fd5adf31ff6e>:106: SettingWithCopyWarning: \n",
      "A value is trying to be set on a copy of a slice from a DataFrame\n",
      "\n",
      "See the caveats in the documentation: https://pandas.pydata.org/pandas-docs/stable/user_guide/indexing.html#returning-a-view-versus-a-copy\n",
      "  df_no_outliers.sort_values(by='Trip Duration', ascending=False, inplace=True)\n",
      "<ipython-input-340-fd5adf31ff6e>:111: SettingWithCopyWarning: \n",
      "A value is trying to be set on a copy of a slice from a DataFrame.\n",
      "Try using .loc[row_indexer,col_indexer] = value instead\n",
      "\n",
      "See the caveats in the documentation: https://pandas.pydata.org/pandas-docs/stable/user_guide/indexing.html#returning-a-view-versus-a-copy\n",
      "  df_no_outliers['Time_ourlier'] = duration_outliers\n",
      "<ipython-input-340-fd5adf31ff6e>:53: SettingWithCopyWarning: \n",
      "A value is trying to be set on a copy of a slice from a DataFrame\n",
      "\n",
      "See the caveats in the documentation: https://pandas.pydata.org/pandas-docs/stable/user_guide/indexing.html#returning-a-view-versus-a-copy\n",
      "  df1.sort_values(by='Trip Duration', ascending=False, inplace=True)\n",
      "<ipython-input-340-fd5adf31ff6e>:58: SettingWithCopyWarning: \n",
      "A value is trying to be set on a copy of a slice from a DataFrame.\n",
      "Try using .loc[row_indexer,col_indexer] = value instead\n",
      "\n",
      "See the caveats in the documentation: https://pandas.pydata.org/pandas-docs/stable/user_guide/indexing.html#returning-a-view-versus-a-copy\n",
      "  df1['Time_ourlier'] = duration_outliers\n",
      "<ipython-input-340-fd5adf31ff6e>:71: SettingWithCopyWarning: \n",
      "A value is trying to be set on a copy of a slice from a DataFrame.\n",
      "Try using .loc[row_indexer,col_indexer] = value instead\n",
      "\n",
      "See the caveats in the documentation: https://pandas.pydata.org/pandas-docs/stable/user_guide/indexing.html#returning-a-view-versus-a-copy\n",
      "  shipments_out_range_temp['Time_outlier'] = duration_outliers\n",
      "<ipython-input-340-fd5adf31ff6e>:106: SettingWithCopyWarning: \n",
      "A value is trying to be set on a copy of a slice from a DataFrame\n",
      "\n",
      "See the caveats in the documentation: https://pandas.pydata.org/pandas-docs/stable/user_guide/indexing.html#returning-a-view-versus-a-copy\n",
      "  df_no_outliers.sort_values(by='Trip Duration', ascending=False, inplace=True)\n",
      "<ipython-input-340-fd5adf31ff6e>:111: SettingWithCopyWarning: \n",
      "A value is trying to be set on a copy of a slice from a DataFrame.\n",
      "Try using .loc[row_indexer,col_indexer] = value instead\n",
      "\n",
      "See the caveats in the documentation: https://pandas.pydata.org/pandas-docs/stable/user_guide/indexing.html#returning-a-view-versus-a-copy\n",
      "  df_no_outliers['Time_ourlier'] = duration_outliers\n",
      "<ipython-input-340-fd5adf31ff6e>:53: SettingWithCopyWarning: \n",
      "A value is trying to be set on a copy of a slice from a DataFrame\n",
      "\n",
      "See the caveats in the documentation: https://pandas.pydata.org/pandas-docs/stable/user_guide/indexing.html#returning-a-view-versus-a-copy\n",
      "  df1.sort_values(by='Trip Duration', ascending=False, inplace=True)\n",
      "<ipython-input-340-fd5adf31ff6e>:58: SettingWithCopyWarning: \n",
      "A value is trying to be set on a copy of a slice from a DataFrame.\n",
      "Try using .loc[row_indexer,col_indexer] = value instead\n",
      "\n",
      "See the caveats in the documentation: https://pandas.pydata.org/pandas-docs/stable/user_guide/indexing.html#returning-a-view-versus-a-copy\n",
      "  df1['Time_ourlier'] = duration_outliers\n",
      "<ipython-input-340-fd5adf31ff6e>:71: SettingWithCopyWarning: \n",
      "A value is trying to be set on a copy of a slice from a DataFrame.\n",
      "Try using .loc[row_indexer,col_indexer] = value instead\n",
      "\n",
      "See the caveats in the documentation: https://pandas.pydata.org/pandas-docs/stable/user_guide/indexing.html#returning-a-view-versus-a-copy\n",
      "  shipments_out_range_temp['Time_outlier'] = duration_outliers\n",
      "<ipython-input-340-fd5adf31ff6e>:106: SettingWithCopyWarning: \n",
      "A value is trying to be set on a copy of a slice from a DataFrame\n",
      "\n",
      "See the caveats in the documentation: https://pandas.pydata.org/pandas-docs/stable/user_guide/indexing.html#returning-a-view-versus-a-copy\n",
      "  df_no_outliers.sort_values(by='Trip Duration', ascending=False, inplace=True)\n",
      "<ipython-input-340-fd5adf31ff6e>:111: SettingWithCopyWarning: \n",
      "A value is trying to be set on a copy of a slice from a DataFrame.\n",
      "Try using .loc[row_indexer,col_indexer] = value instead\n",
      "\n",
      "See the caveats in the documentation: https://pandas.pydata.org/pandas-docs/stable/user_guide/indexing.html#returning-a-view-versus-a-copy\n",
      "  df_no_outliers['Time_ourlier'] = duration_outliers\n",
      "<ipython-input-340-fd5adf31ff6e>:53: SettingWithCopyWarning: \n",
      "A value is trying to be set on a copy of a slice from a DataFrame\n",
      "\n",
      "See the caveats in the documentation: https://pandas.pydata.org/pandas-docs/stable/user_guide/indexing.html#returning-a-view-versus-a-copy\n",
      "  df1.sort_values(by='Trip Duration', ascending=False, inplace=True)\n",
      "<ipython-input-340-fd5adf31ff6e>:58: SettingWithCopyWarning: \n",
      "A value is trying to be set on a copy of a slice from a DataFrame.\n",
      "Try using .loc[row_indexer,col_indexer] = value instead\n",
      "\n",
      "See the caveats in the documentation: https://pandas.pydata.org/pandas-docs/stable/user_guide/indexing.html#returning-a-view-versus-a-copy\n",
      "  df1['Time_ourlier'] = duration_outliers\n",
      "<ipython-input-340-fd5adf31ff6e>:71: SettingWithCopyWarning: \n",
      "A value is trying to be set on a copy of a slice from a DataFrame.\n",
      "Try using .loc[row_indexer,col_indexer] = value instead\n",
      "\n",
      "See the caveats in the documentation: https://pandas.pydata.org/pandas-docs/stable/user_guide/indexing.html#returning-a-view-versus-a-copy\n",
      "  shipments_out_range_temp['Time_outlier'] = duration_outliers\n",
      "<ipython-input-340-fd5adf31ff6e>:106: SettingWithCopyWarning: \n",
      "A value is trying to be set on a copy of a slice from a DataFrame\n",
      "\n",
      "See the caveats in the documentation: https://pandas.pydata.org/pandas-docs/stable/user_guide/indexing.html#returning-a-view-versus-a-copy\n",
      "  df_no_outliers.sort_values(by='Trip Duration', ascending=False, inplace=True)\n",
      "<ipython-input-340-fd5adf31ff6e>:111: SettingWithCopyWarning: \n",
      "A value is trying to be set on a copy of a slice from a DataFrame.\n",
      "Try using .loc[row_indexer,col_indexer] = value instead\n",
      "\n",
      "See the caveats in the documentation: https://pandas.pydata.org/pandas-docs/stable/user_guide/indexing.html#returning-a-view-versus-a-copy\n",
      "  df_no_outliers['Time_ourlier'] = duration_outliers\n",
      "<ipython-input-340-fd5adf31ff6e>:53: SettingWithCopyWarning: \n",
      "A value is trying to be set on a copy of a slice from a DataFrame\n",
      "\n",
      "See the caveats in the documentation: https://pandas.pydata.org/pandas-docs/stable/user_guide/indexing.html#returning-a-view-versus-a-copy\n",
      "  df1.sort_values(by='Trip Duration', ascending=False, inplace=True)\n",
      "<ipython-input-340-fd5adf31ff6e>:58: SettingWithCopyWarning: \n",
      "A value is trying to be set on a copy of a slice from a DataFrame.\n",
      "Try using .loc[row_indexer,col_indexer] = value instead\n",
      "\n",
      "See the caveats in the documentation: https://pandas.pydata.org/pandas-docs/stable/user_guide/indexing.html#returning-a-view-versus-a-copy\n",
      "  df1['Time_ourlier'] = duration_outliers\n",
      "<ipython-input-340-fd5adf31ff6e>:71: SettingWithCopyWarning: \n",
      "A value is trying to be set on a copy of a slice from a DataFrame.\n",
      "Try using .loc[row_indexer,col_indexer] = value instead\n",
      "\n",
      "See the caveats in the documentation: https://pandas.pydata.org/pandas-docs/stable/user_guide/indexing.html#returning-a-view-versus-a-copy\n",
      "  shipments_out_range_temp['Time_outlier'] = duration_outliers\n",
      "<ipython-input-340-fd5adf31ff6e>:106: SettingWithCopyWarning: \n",
      "A value is trying to be set on a copy of a slice from a DataFrame\n",
      "\n",
      "See the caveats in the documentation: https://pandas.pydata.org/pandas-docs/stable/user_guide/indexing.html#returning-a-view-versus-a-copy\n",
      "  df_no_outliers.sort_values(by='Trip Duration', ascending=False, inplace=True)\n",
      "<ipython-input-340-fd5adf31ff6e>:111: SettingWithCopyWarning: \n",
      "A value is trying to be set on a copy of a slice from a DataFrame.\n",
      "Try using .loc[row_indexer,col_indexer] = value instead\n",
      "\n",
      "See the caveats in the documentation: https://pandas.pydata.org/pandas-docs/stable/user_guide/indexing.html#returning-a-view-versus-a-copy\n",
      "  df_no_outliers['Time_ourlier'] = duration_outliers\n",
      "<ipython-input-340-fd5adf31ff6e>:53: SettingWithCopyWarning: \n",
      "A value is trying to be set on a copy of a slice from a DataFrame\n",
      "\n",
      "See the caveats in the documentation: https://pandas.pydata.org/pandas-docs/stable/user_guide/indexing.html#returning-a-view-versus-a-copy\n",
      "  df1.sort_values(by='Trip Duration', ascending=False, inplace=True)\n",
      "<ipython-input-340-fd5adf31ff6e>:58: SettingWithCopyWarning: \n",
      "A value is trying to be set on a copy of a slice from a DataFrame.\n",
      "Try using .loc[row_indexer,col_indexer] = value instead\n",
      "\n",
      "See the caveats in the documentation: https://pandas.pydata.org/pandas-docs/stable/user_guide/indexing.html#returning-a-view-versus-a-copy\n",
      "  df1['Time_ourlier'] = duration_outliers\n",
      "<ipython-input-340-fd5adf31ff6e>:71: SettingWithCopyWarning: \n",
      "A value is trying to be set on a copy of a slice from a DataFrame.\n",
      "Try using .loc[row_indexer,col_indexer] = value instead\n",
      "\n",
      "See the caveats in the documentation: https://pandas.pydata.org/pandas-docs/stable/user_guide/indexing.html#returning-a-view-versus-a-copy\n",
      "  shipments_out_range_temp['Time_outlier'] = duration_outliers\n",
      "<ipython-input-340-fd5adf31ff6e>:106: SettingWithCopyWarning: \n",
      "A value is trying to be set on a copy of a slice from a DataFrame\n",
      "\n",
      "See the caveats in the documentation: https://pandas.pydata.org/pandas-docs/stable/user_guide/indexing.html#returning-a-view-versus-a-copy\n",
      "  df_no_outliers.sort_values(by='Trip Duration', ascending=False, inplace=True)\n",
      "<ipython-input-340-fd5adf31ff6e>:111: SettingWithCopyWarning: \n",
      "A value is trying to be set on a copy of a slice from a DataFrame.\n",
      "Try using .loc[row_indexer,col_indexer] = value instead\n",
      "\n",
      "See the caveats in the documentation: https://pandas.pydata.org/pandas-docs/stable/user_guide/indexing.html#returning-a-view-versus-a-copy\n",
      "  df_no_outliers['Time_ourlier'] = duration_outliers\n",
      "<ipython-input-340-fd5adf31ff6e>:53: SettingWithCopyWarning: \n",
      "A value is trying to be set on a copy of a slice from a DataFrame\n",
      "\n",
      "See the caveats in the documentation: https://pandas.pydata.org/pandas-docs/stable/user_guide/indexing.html#returning-a-view-versus-a-copy\n",
      "  df1.sort_values(by='Trip Duration', ascending=False, inplace=True)\n",
      "<ipython-input-340-fd5adf31ff6e>:58: SettingWithCopyWarning: \n",
      "A value is trying to be set on a copy of a slice from a DataFrame.\n",
      "Try using .loc[row_indexer,col_indexer] = value instead\n",
      "\n",
      "See the caveats in the documentation: https://pandas.pydata.org/pandas-docs/stable/user_guide/indexing.html#returning-a-view-versus-a-copy\n",
      "  df1['Time_ourlier'] = duration_outliers\n",
      "<ipython-input-340-fd5adf31ff6e>:71: SettingWithCopyWarning: \n",
      "A value is trying to be set on a copy of a slice from a DataFrame.\n",
      "Try using .loc[row_indexer,col_indexer] = value instead\n",
      "\n",
      "See the caveats in the documentation: https://pandas.pydata.org/pandas-docs/stable/user_guide/indexing.html#returning-a-view-versus-a-copy\n",
      "  shipments_out_range_temp['Time_outlier'] = duration_outliers\n",
      "<ipython-input-340-fd5adf31ff6e>:106: SettingWithCopyWarning: \n",
      "A value is trying to be set on a copy of a slice from a DataFrame\n",
      "\n",
      "See the caveats in the documentation: https://pandas.pydata.org/pandas-docs/stable/user_guide/indexing.html#returning-a-view-versus-a-copy\n",
      "  df_no_outliers.sort_values(by='Trip Duration', ascending=False, inplace=True)\n",
      "<ipython-input-340-fd5adf31ff6e>:111: SettingWithCopyWarning: \n",
      "A value is trying to be set on a copy of a slice from a DataFrame.\n",
      "Try using .loc[row_indexer,col_indexer] = value instead\n",
      "\n",
      "See the caveats in the documentation: https://pandas.pydata.org/pandas-docs/stable/user_guide/indexing.html#returning-a-view-versus-a-copy\n",
      "  df_no_outliers['Time_ourlier'] = duration_outliers\n",
      "<ipython-input-340-fd5adf31ff6e>:53: SettingWithCopyWarning: \n",
      "A value is trying to be set on a copy of a slice from a DataFrame\n",
      "\n",
      "See the caveats in the documentation: https://pandas.pydata.org/pandas-docs/stable/user_guide/indexing.html#returning-a-view-versus-a-copy\n",
      "  df1.sort_values(by='Trip Duration', ascending=False, inplace=True)\n",
      "<ipython-input-340-fd5adf31ff6e>:58: SettingWithCopyWarning: \n",
      "A value is trying to be set on a copy of a slice from a DataFrame.\n",
      "Try using .loc[row_indexer,col_indexer] = value instead\n",
      "\n",
      "See the caveats in the documentation: https://pandas.pydata.org/pandas-docs/stable/user_guide/indexing.html#returning-a-view-versus-a-copy\n",
      "  df1['Time_ourlier'] = duration_outliers\n",
      "<ipython-input-340-fd5adf31ff6e>:71: SettingWithCopyWarning: \n",
      "A value is trying to be set on a copy of a slice from a DataFrame.\n",
      "Try using .loc[row_indexer,col_indexer] = value instead\n",
      "\n",
      "See the caveats in the documentation: https://pandas.pydata.org/pandas-docs/stable/user_guide/indexing.html#returning-a-view-versus-a-copy\n",
      "  shipments_out_range_temp['Time_outlier'] = duration_outliers\n",
      "<ipython-input-340-fd5adf31ff6e>:106: SettingWithCopyWarning: \n",
      "A value is trying to be set on a copy of a slice from a DataFrame\n",
      "\n",
      "See the caveats in the documentation: https://pandas.pydata.org/pandas-docs/stable/user_guide/indexing.html#returning-a-view-versus-a-copy\n",
      "  df_no_outliers.sort_values(by='Trip Duration', ascending=False, inplace=True)\n",
      "<ipython-input-340-fd5adf31ff6e>:111: SettingWithCopyWarning: \n",
      "A value is trying to be set on a copy of a slice from a DataFrame.\n",
      "Try using .loc[row_indexer,col_indexer] = value instead\n",
      "\n",
      "See the caveats in the documentation: https://pandas.pydata.org/pandas-docs/stable/user_guide/indexing.html#returning-a-view-versus-a-copy\n",
      "  df_no_outliers['Time_ourlier'] = duration_outliers\n",
      "<ipython-input-340-fd5adf31ff6e>:53: SettingWithCopyWarning: \n",
      "A value is trying to be set on a copy of a slice from a DataFrame\n",
      "\n",
      "See the caveats in the documentation: https://pandas.pydata.org/pandas-docs/stable/user_guide/indexing.html#returning-a-view-versus-a-copy\n",
      "  df1.sort_values(by='Trip Duration', ascending=False, inplace=True)\n",
      "<ipython-input-340-fd5adf31ff6e>:58: SettingWithCopyWarning: \n",
      "A value is trying to be set on a copy of a slice from a DataFrame.\n",
      "Try using .loc[row_indexer,col_indexer] = value instead\n",
      "\n",
      "See the caveats in the documentation: https://pandas.pydata.org/pandas-docs/stable/user_guide/indexing.html#returning-a-view-versus-a-copy\n",
      "  df1['Time_ourlier'] = duration_outliers\n",
      "<ipython-input-340-fd5adf31ff6e>:71: SettingWithCopyWarning: \n",
      "A value is trying to be set on a copy of a slice from a DataFrame.\n",
      "Try using .loc[row_indexer,col_indexer] = value instead\n",
      "\n",
      "See the caveats in the documentation: https://pandas.pydata.org/pandas-docs/stable/user_guide/indexing.html#returning-a-view-versus-a-copy\n",
      "  shipments_out_range_temp['Time_outlier'] = duration_outliers\n",
      "<ipython-input-340-fd5adf31ff6e>:106: SettingWithCopyWarning: \n",
      "A value is trying to be set on a copy of a slice from a DataFrame\n",
      "\n",
      "See the caveats in the documentation: https://pandas.pydata.org/pandas-docs/stable/user_guide/indexing.html#returning-a-view-versus-a-copy\n",
      "  df_no_outliers.sort_values(by='Trip Duration', ascending=False, inplace=True)\n",
      "<ipython-input-340-fd5adf31ff6e>:111: SettingWithCopyWarning: \n",
      "A value is trying to be set on a copy of a slice from a DataFrame.\n",
      "Try using .loc[row_indexer,col_indexer] = value instead\n",
      "\n",
      "See the caveats in the documentation: https://pandas.pydata.org/pandas-docs/stable/user_guide/indexing.html#returning-a-view-versus-a-copy\n",
      "  df_no_outliers['Time_ourlier'] = duration_outliers\n",
      "<ipython-input-340-fd5adf31ff6e>:53: SettingWithCopyWarning: \n",
      "A value is trying to be set on a copy of a slice from a DataFrame\n",
      "\n",
      "See the caveats in the documentation: https://pandas.pydata.org/pandas-docs/stable/user_guide/indexing.html#returning-a-view-versus-a-copy\n",
      "  df1.sort_values(by='Trip Duration', ascending=False, inplace=True)\n",
      "<ipython-input-340-fd5adf31ff6e>:58: SettingWithCopyWarning: \n",
      "A value is trying to be set on a copy of a slice from a DataFrame.\n",
      "Try using .loc[row_indexer,col_indexer] = value instead\n",
      "\n",
      "See the caveats in the documentation: https://pandas.pydata.org/pandas-docs/stable/user_guide/indexing.html#returning-a-view-versus-a-copy\n",
      "  df1['Time_ourlier'] = duration_outliers\n",
      "<ipython-input-340-fd5adf31ff6e>:71: SettingWithCopyWarning: \n",
      "A value is trying to be set on a copy of a slice from a DataFrame.\n",
      "Try using .loc[row_indexer,col_indexer] = value instead\n",
      "\n",
      "See the caveats in the documentation: https://pandas.pydata.org/pandas-docs/stable/user_guide/indexing.html#returning-a-view-versus-a-copy\n",
      "  shipments_out_range_temp['Time_outlier'] = duration_outliers\n",
      "<ipython-input-340-fd5adf31ff6e>:106: SettingWithCopyWarning: \n",
      "A value is trying to be set on a copy of a slice from a DataFrame\n",
      "\n",
      "See the caveats in the documentation: https://pandas.pydata.org/pandas-docs/stable/user_guide/indexing.html#returning-a-view-versus-a-copy\n",
      "  df_no_outliers.sort_values(by='Trip Duration', ascending=False, inplace=True)\n",
      "<ipython-input-340-fd5adf31ff6e>:111: SettingWithCopyWarning: \n",
      "A value is trying to be set on a copy of a slice from a DataFrame.\n",
      "Try using .loc[row_indexer,col_indexer] = value instead\n",
      "\n",
      "See the caveats in the documentation: https://pandas.pydata.org/pandas-docs/stable/user_guide/indexing.html#returning-a-view-versus-a-copy\n",
      "  df_no_outliers['Time_ourlier'] = duration_outliers\n"
     ]
    },
    {
     "data": {
      "text/html": [
       "<div>\n",
       "<style scoped>\n",
       "    .dataframe tbody tr th:only-of-type {\n",
       "        vertical-align: middle;\n",
       "    }\n",
       "\n",
       "    .dataframe tbody tr th {\n",
       "        vertical-align: top;\n",
       "    }\n",
       "\n",
       "    .dataframe thead th {\n",
       "        text-align: right;\n",
       "    }\n",
       "</style>\n",
       "<table border=\"1\" class=\"dataframe\">\n",
       "  <thead>\n",
       "    <tr style=\"text-align: right;\">\n",
       "      <th></th>\n",
       "      <th>Company</th>\n",
       "      <th>Trips with no alerts</th>\n",
       "      <th>Trips with no alerts - no outliers</th>\n",
       "      <th>Trips out of temp range</th>\n",
       "      <th>Trips out of temp range - no outliers</th>\n",
       "      <th>Outliers Percentage</th>\n",
       "      <th>Outliers trips out of range</th>\n",
       "      <th>Outliers Percentage - no outlier (1st iteration)</th>\n",
       "    </tr>\n",
       "  </thead>\n",
       "  <tbody>\n",
       "    <tr>\n",
       "      <th>0</th>\n",
       "      <td>California Giant, Inc.</td>\n",
       "      <td>0.999980</td>\n",
       "      <td>0.999977</td>\n",
       "      <td>0.294192</td>\n",
       "      <td>0.251407</td>\n",
       "      <td>0.109931</td>\n",
       "      <td>0.135385</td>\n",
       "      <td>0.002949</td>\n",
       "    </tr>\n",
       "    <tr>\n",
       "      <th>1</th>\n",
       "      <td>Driscolls China</td>\n",
       "      <td>0.234982</td>\n",
       "      <td>0.234982</td>\n",
       "      <td>0.324925</td>\n",
       "      <td>0.324925</td>\n",
       "      <td>0.000000</td>\n",
       "      <td>Not Applicable</td>\n",
       "      <td>0.000000</td>\n",
       "    </tr>\n",
       "    <tr>\n",
       "      <th>2</th>\n",
       "      <td>Mission Produce</td>\n",
       "      <td>0.610592</td>\n",
       "      <td>0.646620</td>\n",
       "      <td>0.082165</td>\n",
       "      <td>0.046869</td>\n",
       "      <td>0.061137</td>\n",
       "      <td>Not Applicable</td>\n",
       "      <td>0.004562</td>\n",
       "    </tr>\n",
       "    <tr>\n",
       "      <th>3</th>\n",
       "      <td>Meijer</td>\n",
       "      <td>0.864155</td>\n",
       "      <td>0.915584</td>\n",
       "      <td>0.105023</td>\n",
       "      <td>0.025974</td>\n",
       "      <td>0.121005</td>\n",
       "      <td>Not Applicable</td>\n",
       "      <td>0.018182</td>\n",
       "    </tr>\n",
       "    <tr>\n",
       "      <th>4</th>\n",
       "      <td>Chipotle Mexican Grill\\t\\t</td>\n",
       "      <td>0.500000</td>\n",
       "      <td>0.500000</td>\n",
       "      <td>0.500000</td>\n",
       "      <td>0.500000</td>\n",
       "      <td>0.000000</td>\n",
       "      <td>Not Applicable</td>\n",
       "      <td>0.000000</td>\n",
       "    </tr>\n",
       "    <tr>\n",
       "      <th>5</th>\n",
       "      <td>Sun-Belle</td>\n",
       "      <td>0.384819</td>\n",
       "      <td>0.418515</td>\n",
       "      <td>0.287288</td>\n",
       "      <td>0.233364</td>\n",
       "      <td>0.098551</td>\n",
       "      <td>0.227983</td>\n",
       "      <td>0.039611</td>\n",
       "    </tr>\n",
       "    <tr>\n",
       "      <th>6</th>\n",
       "      <td>CHR - Generac</td>\n",
       "      <td>1.000000</td>\n",
       "      <td>1.000000</td>\n",
       "      <td>0.000388</td>\n",
       "      <td>0.000441</td>\n",
       "      <td>0.120202</td>\n",
       "      <td>Not Applicable</td>\n",
       "      <td>0.032613</td>\n",
       "    </tr>\n",
       "    <tr>\n",
       "      <th>7</th>\n",
       "      <td>CHR - Global Forwarding</td>\n",
       "      <td>1.000000</td>\n",
       "      <td>1.000000</td>\n",
       "      <td>0.259183</td>\n",
       "      <td>0.259317</td>\n",
       "      <td>0.000517</td>\n",
       "      <td>Not Applicable</td>\n",
       "      <td>0.000000</td>\n",
       "    </tr>\n",
       "    <tr>\n",
       "      <th>8</th>\n",
       "      <td>CHR - Robinson Fresh - Save-A-Lot</td>\n",
       "      <td>0.161455</td>\n",
       "      <td>0.163705</td>\n",
       "      <td>0.258101</td>\n",
       "      <td>0.195489</td>\n",
       "      <td>0.168277</td>\n",
       "      <td>Not Applicable</td>\n",
       "      <td>0.015721</td>\n",
       "    </tr>\n",
       "    <tr>\n",
       "      <th>9</th>\n",
       "      <td>TQL - Nathaniel Heyboer</td>\n",
       "      <td>0.929398</td>\n",
       "      <td>0.931235</td>\n",
       "      <td>0.013889</td>\n",
       "      <td>0.013986</td>\n",
       "      <td>0.006944</td>\n",
       "      <td>Not Applicable</td>\n",
       "      <td>0.000000</td>\n",
       "    </tr>\n",
       "    <tr>\n",
       "      <th>10</th>\n",
       "      <td>TQL - Jack Whittle - Pacific Produce LLC</td>\n",
       "      <td>0.136364</td>\n",
       "      <td>0.176471</td>\n",
       "      <td>0.386364</td>\n",
       "      <td>0.323529</td>\n",
       "      <td>0.227273</td>\n",
       "      <td>Not Applicable</td>\n",
       "      <td>0.000000</td>\n",
       "    </tr>\n",
       "    <tr>\n",
       "      <th>11</th>\n",
       "      <td>TQL - Jack Whittle - H &amp; T Seafood</td>\n",
       "      <td>0.000000</td>\n",
       "      <td>0.000000</td>\n",
       "      <td>0.000000</td>\n",
       "      <td>0.000000</td>\n",
       "      <td>0.000000</td>\n",
       "      <td>Not Applicable</td>\n",
       "      <td>0.000000</td>\n",
       "    </tr>\n",
       "    <tr>\n",
       "      <th>12</th>\n",
       "      <td>Wonderful Citrus</td>\n",
       "      <td>0.862579</td>\n",
       "      <td>0.888829</td>\n",
       "      <td>0.305307</td>\n",
       "      <td>0.279569</td>\n",
       "      <td>0.088812</td>\n",
       "      <td>0.165182</td>\n",
       "      <td>0.000716</td>\n",
       "    </tr>\n",
       "    <tr>\n",
       "      <th>13</th>\n",
       "      <td>Driscolls2</td>\n",
       "      <td>0.637060</td>\n",
       "      <td>0.655399</td>\n",
       "      <td>0.172923</td>\n",
       "      <td>0.132803</td>\n",
       "      <td>0.100278</td>\n",
       "      <td>0.00803778</td>\n",
       "      <td>0.004425</td>\n",
       "    </tr>\n",
       "    <tr>\n",
       "      <th>14</th>\n",
       "      <td>Classic Salads</td>\n",
       "      <td>0.602475</td>\n",
       "      <td>0.624732</td>\n",
       "      <td>0.175540</td>\n",
       "      <td>0.136219</td>\n",
       "      <td>0.072604</td>\n",
       "      <td>0.213437</td>\n",
       "      <td>0.003402</td>\n",
       "    </tr>\n",
       "    <tr>\n",
       "      <th>15</th>\n",
       "      <td>Taylor Farms Mexico</td>\n",
       "      <td>0.075276</td>\n",
       "      <td>0.079035</td>\n",
       "      <td>0.323327</td>\n",
       "      <td>0.279625</td>\n",
       "      <td>0.112848</td>\n",
       "      <td>0.204334</td>\n",
       "      <td>0.007345</td>\n",
       "    </tr>\n",
       "    <tr>\n",
       "      <th>16</th>\n",
       "      <td>Tesla</td>\n",
       "      <td>0.997626</td>\n",
       "      <td>0.998032</td>\n",
       "      <td>0.002465</td>\n",
       "      <td>0.002126</td>\n",
       "      <td>0.138467</td>\n",
       "      <td>0.201835</td>\n",
       "      <td>0.003228</td>\n",
       "    </tr>\n",
       "    <tr>\n",
       "      <th>17</th>\n",
       "      <td>The Kroger Company</td>\n",
       "      <td>0.752357</td>\n",
       "      <td>0.767799</td>\n",
       "      <td>0.266757</td>\n",
       "      <td>0.266181</td>\n",
       "      <td>0.158567</td>\n",
       "      <td>0.156459</td>\n",
       "      <td>0.027072</td>\n",
       "    </tr>\n",
       "    <tr>\n",
       "      <th>18</th>\n",
       "      <td>CHR - Floral</td>\n",
       "      <td>0.147639</td>\n",
       "      <td>0.163388</td>\n",
       "      <td>0.404803</td>\n",
       "      <td>0.327836</td>\n",
       "      <td>0.196994</td>\n",
       "      <td>Not Applicable</td>\n",
       "      <td>0.009864</td>\n",
       "    </tr>\n",
       "    <tr>\n",
       "      <th>19</th>\n",
       "      <td>CHR - Hussman</td>\n",
       "      <td>1.000000</td>\n",
       "      <td>1.000000</td>\n",
       "      <td>0.000127</td>\n",
       "      <td>0.000150</td>\n",
       "      <td>0.155292</td>\n",
       "      <td>Not Applicable</td>\n",
       "      <td>0.058249</td>\n",
       "    </tr>\n",
       "    <tr>\n",
       "      <th>20</th>\n",
       "      <td>CHR - Amazon Robotics</td>\n",
       "      <td>0.999929</td>\n",
       "      <td>0.999974</td>\n",
       "      <td>0.000165</td>\n",
       "      <td>0.000026</td>\n",
       "      <td>0.095406</td>\n",
       "      <td>Not Applicable</td>\n",
       "      <td>0.021520</td>\n",
       "    </tr>\n",
       "    <tr>\n",
       "      <th>21</th>\n",
       "      <td>Sylvan America</td>\n",
       "      <td>0.430556</td>\n",
       "      <td>0.437037</td>\n",
       "      <td>0.121528</td>\n",
       "      <td>0.096296</td>\n",
       "      <td>0.062500</td>\n",
       "      <td>0.0571429</td>\n",
       "      <td>0.051852</td>\n",
       "    </tr>\n",
       "  </tbody>\n",
       "</table>\n",
       "</div>"
      ],
      "text/plain": [
       "                                     Company  Trips with no alerts  \\\n",
       "0                     California Giant, Inc.              0.999980   \n",
       "1                            Driscolls China              0.234982   \n",
       "2                            Mission Produce              0.610592   \n",
       "3                                     Meijer              0.864155   \n",
       "4                 Chipotle Mexican Grill\\t\\t              0.500000   \n",
       "5                                  Sun-Belle              0.384819   \n",
       "6                              CHR - Generac              1.000000   \n",
       "7                    CHR - Global Forwarding              1.000000   \n",
       "8          CHR - Robinson Fresh - Save-A-Lot              0.161455   \n",
       "9                    TQL - Nathaniel Heyboer              0.929398   \n",
       "10  TQL - Jack Whittle - Pacific Produce LLC              0.136364   \n",
       "11        TQL - Jack Whittle - H & T Seafood              0.000000   \n",
       "12                          Wonderful Citrus              0.862579   \n",
       "13                                Driscolls2              0.637060   \n",
       "14                            Classic Salads              0.602475   \n",
       "15                       Taylor Farms Mexico              0.075276   \n",
       "16                                     Tesla              0.997626   \n",
       "17                        The Kroger Company              0.752357   \n",
       "18                              CHR - Floral              0.147639   \n",
       "19                             CHR - Hussman              1.000000   \n",
       "20                     CHR - Amazon Robotics              0.999929   \n",
       "21                            Sylvan America              0.430556   \n",
       "\n",
       "    Trips with no alerts - no outliers  Trips out of temp range  \\\n",
       "0                             0.999977                 0.294192   \n",
       "1                             0.234982                 0.324925   \n",
       "2                             0.646620                 0.082165   \n",
       "3                             0.915584                 0.105023   \n",
       "4                             0.500000                 0.500000   \n",
       "5                             0.418515                 0.287288   \n",
       "6                             1.000000                 0.000388   \n",
       "7                             1.000000                 0.259183   \n",
       "8                             0.163705                 0.258101   \n",
       "9                             0.931235                 0.013889   \n",
       "10                            0.176471                 0.386364   \n",
       "11                            0.000000                 0.000000   \n",
       "12                            0.888829                 0.305307   \n",
       "13                            0.655399                 0.172923   \n",
       "14                            0.624732                 0.175540   \n",
       "15                            0.079035                 0.323327   \n",
       "16                            0.998032                 0.002465   \n",
       "17                            0.767799                 0.266757   \n",
       "18                            0.163388                 0.404803   \n",
       "19                            1.000000                 0.000127   \n",
       "20                            0.999974                 0.000165   \n",
       "21                            0.437037                 0.121528   \n",
       "\n",
       "    Trips out of temp range - no outliers  Outliers Percentage  \\\n",
       "0                                0.251407             0.109931   \n",
       "1                                0.324925             0.000000   \n",
       "2                                0.046869             0.061137   \n",
       "3                                0.025974             0.121005   \n",
       "4                                0.500000             0.000000   \n",
       "5                                0.233364             0.098551   \n",
       "6                                0.000441             0.120202   \n",
       "7                                0.259317             0.000517   \n",
       "8                                0.195489             0.168277   \n",
       "9                                0.013986             0.006944   \n",
       "10                               0.323529             0.227273   \n",
       "11                               0.000000             0.000000   \n",
       "12                               0.279569             0.088812   \n",
       "13                               0.132803             0.100278   \n",
       "14                               0.136219             0.072604   \n",
       "15                               0.279625             0.112848   \n",
       "16                               0.002126             0.138467   \n",
       "17                               0.266181             0.158567   \n",
       "18                               0.327836             0.196994   \n",
       "19                               0.000150             0.155292   \n",
       "20                               0.000026             0.095406   \n",
       "21                               0.096296             0.062500   \n",
       "\n",
       "   Outliers trips out of range  \\\n",
       "0                     0.135385   \n",
       "1               Not Applicable   \n",
       "2               Not Applicable   \n",
       "3               Not Applicable   \n",
       "4               Not Applicable   \n",
       "5                     0.227983   \n",
       "6               Not Applicable   \n",
       "7               Not Applicable   \n",
       "8               Not Applicable   \n",
       "9               Not Applicable   \n",
       "10              Not Applicable   \n",
       "11              Not Applicable   \n",
       "12                    0.165182   \n",
       "13                  0.00803778   \n",
       "14                    0.213437   \n",
       "15                    0.204334   \n",
       "16                    0.201835   \n",
       "17                    0.156459   \n",
       "18              Not Applicable   \n",
       "19              Not Applicable   \n",
       "20              Not Applicable   \n",
       "21                   0.0571429   \n",
       "\n",
       "    Outliers Percentage - no outlier (1st iteration)  \n",
       "0                                           0.002949  \n",
       "1                                           0.000000  \n",
       "2                                           0.004562  \n",
       "3                                           0.018182  \n",
       "4                                           0.000000  \n",
       "5                                           0.039611  \n",
       "6                                           0.032613  \n",
       "7                                           0.000000  \n",
       "8                                           0.015721  \n",
       "9                                           0.000000  \n",
       "10                                          0.000000  \n",
       "11                                          0.000000  \n",
       "12                                          0.000716  \n",
       "13                                          0.004425  \n",
       "14                                          0.003402  \n",
       "15                                          0.007345  \n",
       "16                                          0.003228  \n",
       "17                                          0.027072  \n",
       "18                                          0.009864  \n",
       "19                                          0.058249  \n",
       "20                                          0.021520  \n",
       "21                                          0.051852  "
      ]
     },
     "execution_count": 341,
     "metadata": {},
     "output_type": "execute_result"
    }
   ],
   "source": [
    "customer()"
   ]
  },
  {
   "cell_type": "code",
   "execution_count": null,
   "metadata": {},
   "outputs": [],
   "source": []
  }
 ],
 "metadata": {
  "kernelspec": {
   "display_name": "Python 3",
   "language": "python",
   "name": "python3"
  },
  "language_info": {
   "codemirror_mode": {
    "name": "ipython",
    "version": 3
   },
   "file_extension": ".py",
   "mimetype": "text/x-python",
   "name": "python",
   "nbconvert_exporter": "python",
   "pygments_lexer": "ipython3",
   "version": "3.8.5"
  }
 },
 "nbformat": 4,
 "nbformat_minor": 4
}
